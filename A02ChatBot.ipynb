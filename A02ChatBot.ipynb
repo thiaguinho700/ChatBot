{
 "cells": [
  {
   "cell_type": "code",
   "execution_count": null,
   "metadata": {},
   "outputs": [],
   "source": [
    "!pip install groq"
   ]
  },
  {
   "cell_type": "code",
   "execution_count": 7,
   "metadata": {},
   "outputs": [
    {
     "name": "stderr",
     "output_type": "stream",
     "text": [
      "C:\\Users\\dsadm\\AppData\\Roaming\\Python\\Python313\\site-packages\\tqdm\\auto.py:21: TqdmWarning: IProgress not found. Please update jupyter and ipywidgets. See https://ipywidgets.readthedocs.io/en/stable/user_install.html\n",
      "  from .autonotebook import tqdm as notebook_tqdm\n",
      "None of PyTorch, TensorFlow >= 2.0, or Flax have been found. Models won't be available and only tokenizers, configuration and file/data utilities can be used.\n"
     ]
    }
   ],
   "source": [
    "from llama_index.llms.groq import Groq"
   ]
  },
  {
   "cell_type": "code",
   "execution_count": null,
   "metadata": {},
   "outputs": [],
   "source": [
    "!pip install llama_index.llms.groq"
   ]
  },
  {
   "cell_type": "code",
   "execution_count": 8,
   "metadata": {},
   "outputs": [],
   "source": [
    "groq_api_key = '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'"
   ]
  },
  {
   "cell_type": "code",
   "execution_count": 9,
   "metadata": {},
   "outputs": [],
   "source": [
    "llm = Groq(model='llama3-70b-8192',api_key=groq_api_key)"
   ]
  },
  {
   "cell_type": "code",
   "execution_count": 10,
   "metadata": {},
   "outputs": [],
   "source": [
    "response = llm.complete('Qual semente é indicada para o solo arenoso em maio')"
   ]
  },
  {
   "cell_type": "code",
   "execution_count": 11,
   "metadata": {},
   "outputs": [
    {
     "name": "stdout",
     "output_type": "stream",
     "text": [
      "Excelente pergunta!\n",
      "\n",
      "\n",
      "Para solo arenoso em maio, é importante escolher sementes que sejam resistentes à seca e ao calor, pois o solo arenoso tende a esquentar rapidamente e perder água rapidamente. Aqui estão algumas opções de sementes que são indicadas para solo arenoso em maio:\n",
      "\n",
      "\n",
      "1. **Feijão**: Feijão é uma excelente opção para solo arenoso em maio. Ele é resistente à seca e ao calor, e pode crescer bem em solos arenosos.\n",
      "2. **Milho**: O milho é outra opção que se adapta bem ao solo arenoso em maio. Ele é resistente à seca e ao calor, e pode crescer rapidamente em solos arenosos.\n",
      "3. **Abobrinha**: A abobrinha é uma hortaliça que se adapta bem ao solo arenoso em maio. Ela é resistente à seca e ao calor, e pode crescer rapidamente em solos arenosos.\n",
      "4. **Pepino**: O pepino é outra opção que se adapta bem ao solo arenoso em maio. Ele é resistente à seca e ao calor, e pode crescer rapidamente em solos arenosos.\n",
      "5. **Cebola**: A cebola é uma opção que se adapta bem ao solo arenoso em maio. Ela é resistente à seca e ao calor, e pode crescer bem em solos arenosos.\n",
      "\n",
      "\n",
      "Lembre-se de que, independentemente da semente escolhida, é importante:\n",
      "\n",
      "\n",
      "* Preparar o solo antes de semear, adicionando matéria orgânica e fertilizantes para melhorar a estrutura do solo e a disponibilidade de nutrientes.\n",
      "* Manter o solo úmido, mas não encharcado, para evitar a perda de água e a erosão do solo.\n",
      "* Fornecer sombra para as plantas, especialmente durante o período mais quente do dia, para evitar o estresse térmico.\n",
      "\n",
      "\n",
      "Espero que essas dicas tenham ajudado!\n",
      "\n",
      "\n"
     ]
    }
   ],
   "source": [
    "paragrafos = response.text.split(\"\\n\\n\")\n",
    "for paragrafo in paragrafos:\n",
    "  print(paragrafo)\n",
    "  print(\"\\n\")"
   ]
  }
 ],
 "metadata": {
  "kernelspec": {
   "display_name": "Python 3",
   "language": "python",
   "name": "python3"
  },
  "language_info": {
   "codemirror_mode": {
    "name": "ipython",
    "version": 3
   },
   "file_extension": ".py",
   "mimetype": "text/x-python",
   "name": "python",
   "nbconvert_exporter": "python",
   "pygments_lexer": "ipython3",
   "version": "3.13.1"
  }
 },
 "nbformat": 4,
 "nbformat_minor": 2
}
