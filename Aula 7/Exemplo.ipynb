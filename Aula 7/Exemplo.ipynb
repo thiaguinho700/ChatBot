{
  "nbformat": 4,
  "nbformat_minor": 0,
  "metadata": {
    "colab": {
      "provenance": []
    },
    "kernelspec": {
      "name": "python3",
      "display_name": "Python 3"
    },
    "language_info": {
      "name": "python"
    },
    "widgets": {
      "application/vnd.jupyter.widget-state+json": {
        "2e9de5fdd7d74fc1b8bf553dbf8b56cf": {
          "model_module": "@jupyter-widgets/controls",
          "model_name": "HBoxModel",
          "model_module_version": "1.5.0",
          "state": {
            "_dom_classes": [],
            "_model_module": "@jupyter-widgets/controls",
            "_model_module_version": "1.5.0",
            "_model_name": "HBoxModel",
            "_view_count": null,
            "_view_module": "@jupyter-widgets/controls",
            "_view_module_version": "1.5.0",
            "_view_name": "HBoxView",
            "box_style": "",
            "children": [
              "IPY_MODEL_54309e2d38bf4df8953bc92cecd93ed9",
              "IPY_MODEL_ba3285e294a84338887f60634f56011d",
              "IPY_MODEL_660a926516784b0d8445a924f4241bd0"
            ],
            "layout": "IPY_MODEL_32567f36e10146359382240e95a25a4f"
          }
        },
        "54309e2d38bf4df8953bc92cecd93ed9": {
          "model_module": "@jupyter-widgets/controls",
          "model_name": "HTMLModel",
          "model_module_version": "1.5.0",
          "state": {
            "_dom_classes": [],
            "_model_module": "@jupyter-widgets/controls",
            "_model_module_version": "1.5.0",
            "_model_name": "HTMLModel",
            "_view_count": null,
            "_view_module": "@jupyter-widgets/controls",
            "_view_module_version": "1.5.0",
            "_view_name": "HTMLView",
            "description": "",
            "description_tooltip": null,
            "layout": "IPY_MODEL_b964d049203448d484d053ba74d4d4df",
            "placeholder": "​",
            "style": "IPY_MODEL_a0ac07d44c174e0eb433663688d29161",
            "value": "Parsing nodes: 100%"
          }
        },
        "ba3285e294a84338887f60634f56011d": {
          "model_module": "@jupyter-widgets/controls",
          "model_name": "FloatProgressModel",
          "model_module_version": "1.5.0",
          "state": {
            "_dom_classes": [],
            "_model_module": "@jupyter-widgets/controls",
            "_model_module_version": "1.5.0",
            "_model_name": "FloatProgressModel",
            "_view_count": null,
            "_view_module": "@jupyter-widgets/controls",
            "_view_module_version": "1.5.0",
            "_view_name": "ProgressView",
            "bar_style": "success",
            "description": "",
            "description_tooltip": null,
            "layout": "IPY_MODEL_a31764037e2b45deac32374af85feb4f",
            "max": 10,
            "min": 0,
            "orientation": "horizontal",
            "style": "IPY_MODEL_449d31336daf4547b421b0e9ff38168b",
            "value": 10
          }
        },
        "660a926516784b0d8445a924f4241bd0": {
          "model_module": "@jupyter-widgets/controls",
          "model_name": "HTMLModel",
          "model_module_version": "1.5.0",
          "state": {
            "_dom_classes": [],
            "_model_module": "@jupyter-widgets/controls",
            "_model_module_version": "1.5.0",
            "_model_name": "HTMLModel",
            "_view_count": null,
            "_view_module": "@jupyter-widgets/controls",
            "_view_module_version": "1.5.0",
            "_view_name": "HTMLView",
            "description": "",
            "description_tooltip": null,
            "layout": "IPY_MODEL_8cad7f9da6c34a589242394eb0db56ef",
            "placeholder": "​",
            "style": "IPY_MODEL_2c33dc8a608a4b6f9bef6f07edff80d7",
            "value": " 10/10 [00:00&lt;00:00, 282.09it/s]"
          }
        },
        "32567f36e10146359382240e95a25a4f": {
          "model_module": "@jupyter-widgets/base",
          "model_name": "LayoutModel",
          "model_module_version": "1.2.0",
          "state": {
            "_model_module": "@jupyter-widgets/base",
            "_model_module_version": "1.2.0",
            "_model_name": "LayoutModel",
            "_view_count": null,
            "_view_module": "@jupyter-widgets/base",
            "_view_module_version": "1.2.0",
            "_view_name": "LayoutView",
            "align_content": null,
            "align_items": null,
            "align_self": null,
            "border": null,
            "bottom": null,
            "display": null,
            "flex": null,
            "flex_flow": null,
            "grid_area": null,
            "grid_auto_columns": null,
            "grid_auto_flow": null,
            "grid_auto_rows": null,
            "grid_column": null,
            "grid_gap": null,
            "grid_row": null,
            "grid_template_areas": null,
            "grid_template_columns": null,
            "grid_template_rows": null,
            "height": null,
            "justify_content": null,
            "justify_items": null,
            "left": null,
            "margin": null,
            "max_height": null,
            "max_width": null,
            "min_height": null,
            "min_width": null,
            "object_fit": null,
            "object_position": null,
            "order": null,
            "overflow": null,
            "overflow_x": null,
            "overflow_y": null,
            "padding": null,
            "right": null,
            "top": null,
            "visibility": null,
            "width": null
          }
        },
        "b964d049203448d484d053ba74d4d4df": {
          "model_module": "@jupyter-widgets/base",
          "model_name": "LayoutModel",
          "model_module_version": "1.2.0",
          "state": {
            "_model_module": "@jupyter-widgets/base",
            "_model_module_version": "1.2.0",
            "_model_name": "LayoutModel",
            "_view_count": null,
            "_view_module": "@jupyter-widgets/base",
            "_view_module_version": "1.2.0",
            "_view_name": "LayoutView",
            "align_content": null,
            "align_items": null,
            "align_self": null,
            "border": null,
            "bottom": null,
            "display": null,
            "flex": null,
            "flex_flow": null,
            "grid_area": null,
            "grid_auto_columns": null,
            "grid_auto_flow": null,
            "grid_auto_rows": null,
            "grid_column": null,
            "grid_gap": null,
            "grid_row": null,
            "grid_template_areas": null,
            "grid_template_columns": null,
            "grid_template_rows": null,
            "height": null,
            "justify_content": null,
            "justify_items": null,
            "left": null,
            "margin": null,
            "max_height": null,
            "max_width": null,
            "min_height": null,
            "min_width": null,
            "object_fit": null,
            "object_position": null,
            "order": null,
            "overflow": null,
            "overflow_x": null,
            "overflow_y": null,
            "padding": null,
            "right": null,
            "top": null,
            "visibility": null,
            "width": null
          }
        },
        "a0ac07d44c174e0eb433663688d29161": {
          "model_module": "@jupyter-widgets/controls",
          "model_name": "DescriptionStyleModel",
          "model_module_version": "1.5.0",
          "state": {
            "_model_module": "@jupyter-widgets/controls",
            "_model_module_version": "1.5.0",
            "_model_name": "DescriptionStyleModel",
            "_view_count": null,
            "_view_module": "@jupyter-widgets/base",
            "_view_module_version": "1.2.0",
            "_view_name": "StyleView",
            "description_width": ""
          }
        },
        "a31764037e2b45deac32374af85feb4f": {
          "model_module": "@jupyter-widgets/base",
          "model_name": "LayoutModel",
          "model_module_version": "1.2.0",
          "state": {
            "_model_module": "@jupyter-widgets/base",
            "_model_module_version": "1.2.0",
            "_model_name": "LayoutModel",
            "_view_count": null,
            "_view_module": "@jupyter-widgets/base",
            "_view_module_version": "1.2.0",
            "_view_name": "LayoutView",
            "align_content": null,
            "align_items": null,
            "align_self": null,
            "border": null,
            "bottom": null,
            "display": null,
            "flex": null,
            "flex_flow": null,
            "grid_area": null,
            "grid_auto_columns": null,
            "grid_auto_flow": null,
            "grid_auto_rows": null,
            "grid_column": null,
            "grid_gap": null,
            "grid_row": null,
            "grid_template_areas": null,
            "grid_template_columns": null,
            "grid_template_rows": null,
            "height": null,
            "justify_content": null,
            "justify_items": null,
            "left": null,
            "margin": null,
            "max_height": null,
            "max_width": null,
            "min_height": null,
            "min_width": null,
            "object_fit": null,
            "object_position": null,
            "order": null,
            "overflow": null,
            "overflow_x": null,
            "overflow_y": null,
            "padding": null,
            "right": null,
            "top": null,
            "visibility": null,
            "width": null
          }
        },
        "449d31336daf4547b421b0e9ff38168b": {
          "model_module": "@jupyter-widgets/controls",
          "model_name": "ProgressStyleModel",
          "model_module_version": "1.5.0",
          "state": {
            "_model_module": "@jupyter-widgets/controls",
            "_model_module_version": "1.5.0",
            "_model_name": "ProgressStyleModel",
            "_view_count": null,
            "_view_module": "@jupyter-widgets/base",
            "_view_module_version": "1.2.0",
            "_view_name": "StyleView",
            "bar_color": null,
            "description_width": ""
          }
        },
        "8cad7f9da6c34a589242394eb0db56ef": {
          "model_module": "@jupyter-widgets/base",
          "model_name": "LayoutModel",
          "model_module_version": "1.2.0",
          "state": {
            "_model_module": "@jupyter-widgets/base",
            "_model_module_version": "1.2.0",
            "_model_name": "LayoutModel",
            "_view_count": null,
            "_view_module": "@jupyter-widgets/base",
            "_view_module_version": "1.2.0",
            "_view_name": "LayoutView",
            "align_content": null,
            "align_items": null,
            "align_self": null,
            "border": null,
            "bottom": null,
            "display": null,
            "flex": null,
            "flex_flow": null,
            "grid_area": null,
            "grid_auto_columns": null,
            "grid_auto_flow": null,
            "grid_auto_rows": null,
            "grid_column": null,
            "grid_gap": null,
            "grid_row": null,
            "grid_template_areas": null,
            "grid_template_columns": null,
            "grid_template_rows": null,
            "height": null,
            "justify_content": null,
            "justify_items": null,
            "left": null,
            "margin": null,
            "max_height": null,
            "max_width": null,
            "min_height": null,
            "min_width": null,
            "object_fit": null,
            "object_position": null,
            "order": null,
            "overflow": null,
            "overflow_x": null,
            "overflow_y": null,
            "padding": null,
            "right": null,
            "top": null,
            "visibility": null,
            "width": null
          }
        },
        "2c33dc8a608a4b6f9bef6f07edff80d7": {
          "model_module": "@jupyter-widgets/controls",
          "model_name": "DescriptionStyleModel",
          "model_module_version": "1.5.0",
          "state": {
            "_model_module": "@jupyter-widgets/controls",
            "_model_module_version": "1.5.0",
            "_model_name": "DescriptionStyleModel",
            "_view_count": null,
            "_view_module": "@jupyter-widgets/base",
            "_view_module_version": "1.2.0",
            "_view_name": "StyleView",
            "description_width": ""
          }
        }
      }
    }
  },
  "cells": [
    {
      "cell_type": "code",
      "execution_count": null,
      "metadata": {
        "id": "QTdIPWEkwgqd"
      },
      "outputs": [],
      "source": [
        "#instalando a biblioteca Llama index\n",
        "!pip install -q llama-index"
      ]
    },
    {
      "cell_type": "code",
      "source": [
        "# biblioteca para permitir a leitura de arquivos\n",
        "from llama_index.core import SimpleDirectoryReader"
      ],
      "metadata": {
        "id": "GtvaLGG1xMBp"
      },
      "execution_count": 3,
      "outputs": []
    },
    {
      "cell_type": "code",
      "source": [
        "documentos = SimpleDirectoryReader(input_dir='documentos')"
      ],
      "metadata": {
        "id": "NTskzu2kxhU_"
      },
      "execution_count": 4,
      "outputs": []
    },
    {
      "cell_type": "code",
      "source": [
        "documentos.input_files"
      ],
      "metadata": {
        "colab": {
          "base_uri": "https://localhost:8080/"
        },
        "id": "8KIAppBoyXek",
        "outputId": "79a6aa4a-3284-4ebc-c940-d213e768746c"
      },
      "execution_count": 5,
      "outputs": [
        {
          "output_type": "execute_result",
          "data": {
            "text/plain": [
              "[PosixPath('/content/documentos/serenatto_cafes_especiais.pdf')]"
            ]
          },
          "metadata": {},
          "execution_count": 5
        }
      ]
    },
    {
      "cell_type": "code",
      "source": [
        "docs = documentos.load_data()"
      ],
      "metadata": {
        "id": "Onj71K3EyvEd"
      },
      "execution_count": 6,
      "outputs": []
    },
    {
      "cell_type": "code",
      "source": [
        "docs"
      ],
      "metadata": {
        "colab": {
          "base_uri": "https://localhost:8080/"
        },
        "id": "ePflC2gWy001",
        "outputId": "939e9225-c219-442f-e981-006be08d8fd3"
      },
      "execution_count": 7,
      "outputs": [
        {
          "output_type": "execute_result",
          "data": {
            "text/plain": [
              "[Document(id_='35786cd1-b5ff-43f0-9696-192685e9c533', embedding=None, metadata={'page_label': '1', 'file_name': 'serenatto_cafes_especiais.pdf', 'file_path': '/content/documentos/serenatto_cafes_especiais.pdf', 'file_type': 'application/pdf', 'file_size': 133957, 'creation_date': '2025-03-12', 'last_modified_date': '2025-03-12'}, excluded_embed_metadata_keys=['file_name', 'file_type', 'file_size', 'creation_date', 'last_modified_date', 'last_accessed_date'], excluded_llm_metadata_keys=['file_name', 'file_type', 'file_size', 'creation_date', 'last_modified_date', 'last_accessed_date'], relationships={}, metadata_template='{key}: {value}', metadata_separator='\\n', text_resource=MediaResource(embeddings=None, data=None, text='Serenatto  –  Loja  online  de  cafés  especiais   Informações  gerais   P:  Quais  produtos  são  vendidos  no  site  da  Serenatto?  R:  A  Serenatto  é  uma  loja  online  especializada  na  venda  de  grãos  de  cafés  especiais,  \\noferecendo\\n \\ngrãos\\n \\ntorrados,\\n \\nprovenientes\\n \\nde\\n \\nfazendas\\n \\nselecionadas\\n \\nde\\n \\nMinas\\n \\nGerais.\\n \\nTodos\\n \\nos\\n \\nnossos\\n \\ncafés\\n \\npossuem\\n \\nnota\\n \\nSCA\\n \\nacima\\n \\nde\\n \\n80,\\n \\ngarantindo\\n \\nalta\\n \\nqualidade\\n \\ne\\n \\nperfis\\n \\nsensoriais\\n \\nexcepcionais.\\n  P:  De  onde  vêm  os  grãos  de  café  da  Serenatto?   R:  Nossos  grãos  são  cuidadosamente  selecionados  de  fazendas  localizadas  em  Minas  \\nGerais,\\n \\nconhecidas\\n \\npela\\n \\nalta\\n \\nqualidade\\n \\nde\\n \\nseus\\n \\ncafés\\n \\nespeciais.\\n \\nCada\\n \\nfazenda\\n \\né\\n \\nescolhida\\n \\npor\\n \\nsuas\\n \\npráticas\\n \\nsustentáveis\\n \\ne\\n \\npelo\\n \\ncuidado\\n \\nexcepcional\\n \\ncom\\n \\na\\n \\nprodução.\\n  P:  Qual  é  a  quantidade  vendida?  R:  Os  grãos  já  torrados  são  vendidos  em  pacotes  de  250g   P:  Quais  são  as  variedades  de  café  disponíveis?  R:  Trabalhamos  com  as  seguintes  variedades  de  café  em  grãos:  ●  Bourbon  vermelho  ●  Bourbon  amarelo  ●  Blend  especial  (Mistura  de  Bourbon  amarelo  e  vermelho)  ●  Catuaí  amarelo  ●  Geisha  ●  Yirgacheffe   P:  Quais  são  os  preços  de  cada  variedade  de  café?  R:  Os  preços  sãos  os  seguintes:  ●  Bourbon  vermelho:  R$  41,00  ●  Bourbon  amarelo:  R$  43,00  ●  Blend  especial:  R$  37,50  ●  Catuaí  amarelo:  R$  55,00  ●  Geisha:  R$  105,00  ●  Yirgacheffe:  R$  110,00      ', path=None, url=None, mimetype=None), image_resource=None, audio_resource=None, video_resource=None, text_template='{metadata_str}\\n\\n{content}'),\n",
              " Document(id_='6eb67009-5328-4c79-a35f-95082445e88f', embedding=None, metadata={'page_label': '2', 'file_name': 'serenatto_cafes_especiais.pdf', 'file_path': '/content/documentos/serenatto_cafes_especiais.pdf', 'file_type': 'application/pdf', 'file_size': 133957, 'creation_date': '2025-03-12', 'last_modified_date': '2025-03-12'}, excluded_embed_metadata_keys=['file_name', 'file_type', 'file_size', 'creation_date', 'last_modified_date', 'last_accessed_date'], excluded_llm_metadata_keys=['file_name', 'file_type', 'file_size', 'creation_date', 'last_modified_date', 'last_accessed_date'], relationships={}, metadata_template='{key}: {value}', metadata_separator='\\n', text_resource=MediaResource(embeddings=None, data=None, text='P:  A  Serenatto  oferece  cafés  descafeinados?  R:  No  momento,  trabalhamos  apenas  com  cafés  especiais  que  contêm  cafeína.  Todos  \\nos\\n \\nnossos\\n \\ngrãos\\n \\nsão\\n \\nselecionados\\n \\npara\\n \\noferecer\\n \\na\\n \\nmelhor\\n \\nexperiência\\n \\nsensorial,\\n \\nmas\\n \\nnão\\n \\ntemos\\n \\nopções\\n \\ndescafeinadas\\n \\nem\\n \\nnosso\\n \\nportfólio.\\n  P:  Vocês  enviam  para  todos  os  estados  brasileiros?  R:  Sim,  os  cafés  são  enviados  para  todos  os  estados  brasileiros.    P:  Qual  é  o  prazo  de  envio?  R:  O  envio  dos  pedidos  é  realizado  em  até  3  dias  úteis  após  a  confirmação  do  \\npagamento,\\n \\npois\\n \\nenviamos\\n \\no\\n \\ncafé\\n \\nrecém\\n \\ntorrado\\n \\npara\\n \\ngarantir\\n \\nfrescor\\n \\ne\\n \\nqualidade.\\n  P:  Quais  são  os  métodos  de  pagamento  aceitos?  R:  Aceitamos  PIX,  boleto  bancário  e  cartão  de  crédito.   P:  Vocês  oferecem  cursos  ou  workshops  sobre  café?  R:  Estamos  planejando  oferecer  workshops  e  cursos  sobre  métodos  de  preparo  e  \\ndegustação\\n \\nde\\n \\ncafé\\n \\nem\\n \\nbreve.\\n \\nFique\\n \\nde\\n \\nolho\\n \\nem\\n \\nnossas\\n \\nredes\\n \\nsociais\\n \\ne\\n \\nnewsletter\\n \\npara\\n \\nmais\\n \\ninformações.\\n  P:  A  Serenatto  oferece  um  serviço  de  assinatura?   R:  Atualmente,  não  oferecemos  um  serviço  de  assinatura.  No  entanto,  você  pode  \\nrealizar\\n \\npedidos\\n \\nrecorrentes\\n \\nmanualmente\\n \\natravés\\n \\nde\\n \\nnosso\\n \\nsite.\\n \\nEstamos\\n \\nsempre\\n \\navaliando\\n \\nnovos\\n \\nserviços\\n \\nque\\n \\npossam\\n \\nmelhorar\\n \\na\\n \\nexperiência\\n \\nde\\n \\nnossos\\n \\nclientes,\\n \\nentão\\n \\nfique\\n \\natento\\n \\nàs\\n \\natualizações\\n \\nfuturas.\\n  P:  Onde  posso  tirar  mais  dúvidas?  R:  Para  mais  informações,  entre  em  contato  pelo  whatsapp  (11)  99999-9999  ou  envie  \\nemail\\n \\npara\\n \\ncontato@serenatto.com.br.\\n             ', path=None, url=None, mimetype=None), image_resource=None, audio_resource=None, video_resource=None, text_template='{metadata_str}\\n\\n{content}'),\n",
              " Document(id_='d43ec3b2-b519-4a4d-9e08-7521fa26028f', embedding=None, metadata={'page_label': '3', 'file_name': 'serenatto_cafes_especiais.pdf', 'file_path': '/content/documentos/serenatto_cafes_especiais.pdf', 'file_type': 'application/pdf', 'file_size': 133957, 'creation_date': '2025-03-12', 'last_modified_date': '2025-03-12'}, excluded_embed_metadata_keys=['file_name', 'file_type', 'file_size', 'creation_date', 'last_modified_date', 'last_accessed_date'], excluded_llm_metadata_keys=['file_name', 'file_type', 'file_size', 'creation_date', 'last_modified_date', 'last_accessed_date'], relationships={}, metadata_template='{key}: {value}', metadata_separator='\\n', text_resource=MediaResource(embeddings=None, data=None, text='Variedades  dos  grãos   P:  Quais  são  as  características  de  cada  variedade  de  café?  R:  As  variedades  têm  as  seguintes  características:  ●  Bourbon  vermelho:  Doçura  intensa,  corpo  encorpado,  notas  de  chocolate.  ●  Bourbon  amarelo:  Acidez  vibrante,  notas  cítricas  de  maracujá,  ameixa  e  nêspera .   ●  Blend  especial:  Mistura  do  bourbon  vermelho  e  bourbon  amarelo,  gerando  \\nequilíbrio\\n \\nentre\\n \\ndoçura\\n \\ne\\n \\nacidez,\\n \\ncom\\n \\nnotas\\n \\nde\\n \\ncaramelo\\n \\ne\\n \\nchocolate.\\n ●  Catuaí  amarelo:  Perfil  exótico,  que  carrega  uma  expressiva  acidez  e  notas  de  \\nacerola\\n \\ne\\n \\npitanga.\\n \\n ●  Geisha:  Aroma  floral,  notas  de  jasmim  e  mamão  papaya.   ●  Yirgacheffe:  Acidez  vibrante,  notas  de  mel  de  laranjeira,  chá  de  capim-limão  e  \\nmaçã\\n \\nfuji.\\n \\n  P:  Quero  saber  mais  detalhes  sobre  o  Bourbon  vermelho.  R:  Este  café  possui  doçura  máxima  (5/5),  que  causa  sensação  aveludada  no  céu  da  \\nboca.\\n \\nO\\n \\ncorpo\\n \\né\\n \\nencorpado\\n \\n(5/5)\\n \\ne\\n \\na\\n \\nacidez\\n \\né\\n \\nbaixa\\n \\n(1/5),\\n \\ncom\\n \\num\\n \\nleve\\n \\namargor\\n \\n(2/5).\\n \\nSeu\\n \\nperfil\\n \\nsensorial\\n \\né\\n \\nmarcado\\n \\npor\\n \\nnotas\\n \\nde\\n \\nchocolate.\\n \\nO\\n \\nprocesso\\n \\nde\\n \\nprodução\\n \\né\\n \\nnatural,\\n \\ncultivado\\n \\nem\\n \\naltitudes\\n \\nentre\\n \\n1.200m\\n \\ne\\n \\n1.450m,\\n \\ncom\\n \\ntorra\\n \\nmédia\\n \\nescura.\\n \\n  P:  Quero  mais  detalhes  sobre  o  Bourbon  amarelo.  R:  Este  café  possui  doçura  moderada  (3/5),  corpo  médio  (3/5),  alta  acidez  (5/5)  e  baixo  \\namargor\\n \\n(1/5).\\n \\nPossui\\n \\nsabor\\n \\nresidual\\n \\nlongo\\n \\ne\\n \\nintenso\\n \\nde\\n \\nfrutas\\n \\ncítricas,\\n \\nincluindo\\n \\nnotas\\n \\nde\\n \\nmaracujá,\\n \\nameixa\\n \\ne\\n \\nnêspera.\\n \\nO\\n \\nprocesso\\n \\nutilizado\\n \\né\\n \\no\\n \\ncereja\\n \\ndescascado,\\n \\ncultivado\\n \\nem\\n \\naltitudes\\n \\nentre\\n \\n1.200m\\n \\ne\\n \\n1.450m,\\n \\ncom\\n \\ntorra\\n \\nmédia\\n \\nclara.\\n \\n  P:  Quero  saber  mais  detalhes  sobre  o  Blend  especial.  R:  É  uma  mistura  do  Bourbon  amarelo  com  o  Bourbon  vermelho,  ideal  para  quem  \\nbusca\\n \\no\\n \\nequilíbrio\\n \\nperfeito.\\n \\nEsta\\n \\nmistura\\n \\napresenta\\n \\ndoçura\\n \\nalta\\n \\n(4/5),\\n \\ncorpo\\n \\nmédio-alto\\n \\n(4/5)\\n \\ne\\n \\nacidez\\n \\nmédia-alta\\n \\n(4/5),\\n \\ncom\\n \\namargor\\n \\nbaixo\\n \\n(1/5).\\n \\nSeu\\n \\nperfil\\n \\nsensorial\\n \\ncombina\\n \\ncaramelo\\n \\ne\\n \\nchocolate.\\n \\nO\\n \\nprocesso\\n \\ninclui\\n \\ncereja\\n \\ndescascado\\n \\ne\\n \\nnatural,\\n \\ncultivado\\n \\nem\\n \\naltitudes\\n \\nentre\\n \\n1.200m\\n \\ne\\n \\n1.450m,\\n \\ncom\\n \\ntorra\\n \\nmédia.\\n  P:  Quero  mais  detalhes  sobre  o  Catuaí  amarelo.  R:  Este  café  possui  doçura  máxima  (5/5)  e  corpo  médio-alto  (4/5)  e  amargor  baixo  \\n(1/5).\\n \\nEle\\n \\nainda\\n \\ncarrega\\n \\numa\\n \\nexpressiva\\n \\nacidez\\n \\ne\\n \\nnotas\\n \\nmaravilhosas\\n \\nde\\n \\npitanga,\\n \\nfugindo\\n \\nmuito\\n \\ndo\\n \\ntradicional.\\n \\nÉ\\n \\num\\n \\ncafé\\n \\npara\\n \\nquem\\n \\nbusca\\n \\numa\\n \\nexperiência\\n \\nsensorial\\n \\ndiferenciada.\\n \\nO\\n \\nprocesso\\n \\né\\n \\nfermentado,\\n \\ncultivado\\n \\nem\\n \\naltitude\\n \\nde\\n \\n1.200m,\\n \\ncom\\n \\ntorra\\n \\nmédia.\\n  ', path=None, url=None, mimetype=None), image_resource=None, audio_resource=None, video_resource=None, text_template='{metadata_str}\\n\\n{content}'),\n",
              " Document(id_='e577b40b-05ef-4cb6-b0f1-d140e2dad84c', embedding=None, metadata={'page_label': '4', 'file_name': 'serenatto_cafes_especiais.pdf', 'file_path': '/content/documentos/serenatto_cafes_especiais.pdf', 'file_type': 'application/pdf', 'file_size': 133957, 'creation_date': '2025-03-12', 'last_modified_date': '2025-03-12'}, excluded_embed_metadata_keys=['file_name', 'file_type', 'file_size', 'creation_date', 'last_modified_date', 'last_accessed_date'], excluded_llm_metadata_keys=['file_name', 'file_type', 'file_size', 'creation_date', 'last_modified_date', 'last_accessed_date'], relationships={}, metadata_template='{key}: {value}', metadata_separator='\\n', text_resource=MediaResource(embeddings=None, data=None, text='P:  Quero  saber  mais  detalhes  sobre  o  Geisha.  R:  Este  café  premium  possui  doçura  máxima  (5/5),  corpo  encorpado  (5/5)  e  acidez  \\nmoderada-alta\\n \\n(4/5),\\n \\ncom\\n \\namargor\\n \\nbaixo\\n \\n(1/5).\\n \\nSeu\\n \\nperfil\\n \\nsensorial\\n \\ntem\\n \\naroma\\n \\nfloral\\n \\ne\\n \\né\\n \\nmarcado\\n \\npor\\n \\nnotas\\n \\nde\\n \\njasmim\\n \\ne\\n \\nmamão\\n \\npapaya.\\n \\nO\\n \\nprocesso\\n \\né\\n \\nfermentado,\\n \\ncultivado\\n \\nem\\n \\naltitude\\n \\nde\\n \\n1.150m,\\n \\ncom\\n \\ntorra\\n \\nclara.\\n  P:  Quero  saber  mais  detalhes  sobre  o  Yirgacheffe.   R:  Este  café  premium  possui  doçura  máxima  (5/5)  e  corpo  médio-alto  (4/5),  \\ndestacando-se\\n \\npela\\n \\nalta\\n \\nacidez\\n \\n(5/5)\\n \\ne\\n \\namargor\\n \\nbaixo\\n \\n(1/5).\\n \\nSeu\\n \\nperfil\\n \\nsensorial\\n \\ninclui\\n \\nnotas\\n \\nde\\n \\nmel\\n \\nde\\n \\nlaranjeira,\\n \\nchá\\n \\nde\\n \\ncapim-limão\\n \\ne\\n \\nmaçã\\n \\nfuji.\\n \\nA\\n \\nacidez\\n \\né\\n \\nvibrante,\\n \\ncom\\n \\ncorpo\\n \\nsedoso\\n \\ne\\n \\nfinalização\\n \\ndoce\\n \\nfrutada.\\n \\nO\\n \\nprocesso\\n \\né\\n \\nfermentado,\\n \\ncultivado\\n \\nem\\n \\naltitude\\n \\nde\\n \\n1.300m,\\n \\ncom\\n \\ntorra\\n \\nclara.\\n \\n  P:  Qual  café  da  Serenatto  é  mais  indicado  para  quem  prefere  sabores  suaves?  R:  Para  quem  prefere  sabores  suaves,  recomendamos  o  Bourbon  Vermelho,  que  \\npossui\\n \\ndoçura\\n \\nintensa,\\n \\ncorpo\\n \\nencorpado\\n \\ne\\n \\nnotas\\n \\nde\\n \\nchocolate,\\n \\ncom\\n \\nacidez\\n \\nbaixa\\n \\ne\\n \\namargor\\n \\nleve.\\n  P:  Qual  café  é  mais  indicado  para  quem  gosta  de  acidez  marcante?  R:  Se  você  aprecia  acidez  vibrante,  experimente  o  Bourbon  amarelo,  Catuaí  amarelo  \\nou\\n \\no\\n \\nYirgacheffe.\\n \\nAmbos\\n \\npossuem\\n \\nacidez\\n \\nalta\\n \\ne\\n \\nnotas\\n \\ncítricas\\n \\ne\\n \\nfrutadas\\n \\nque\\n \\ndestacam\\n \\nessa\\n \\ncaracterística.\\n  P:  Vocês  têm  cafés  com  notas  florais?  R:  Sim,  o  Geisha  é  a  melhor  opção  para  quem  busca  notas  florais.  Ele  possui  aroma  de  \\njasmim\\n \\ne\\n \\nnotas\\n \\nde\\n \\nmamão\\n \\npapaya,\\n \\ncom\\n \\numa\\n \\nacidez\\n \\nagradável\\n \\ne\\n \\ndoçura\\n \\nmáxima.\\n  P:  Como  posso  identificar  notas  diferentes  no  café?   R:  Identificar  notas  em  café  é  uma  habilidade  que  pode  ser  aprimorada  com  a  prática.  \\nComece\\n \\nprovando\\n \\ncafés\\n \\nde\\n \\ndiferentes\\n \\nregiões\\n \\ne\\n \\nprestando\\n \\natenção\\n \\nàs\\n \\ndescrições\\n \\ndas\\n \\nnotas\\n \\nna\\n \\nembalagem.\\n \\nTente\\n \\nidentificar\\n \\nessas\\n \\nnotas\\n \\nenquanto\\n \\nsaboreia\\n \\nlentamente,\\n \\nprestando\\n \\natenção\\n \\nao\\n \\naroma,\\n \\nsabor\\n \\ne\\n \\nsensação\\n \\nna\\n \\nboca.\\n         ', path=None, url=None, mimetype=None), image_resource=None, audio_resource=None, video_resource=None, text_template='{metadata_str}\\n\\n{content}'),\n",
              " Document(id_='336ffb1f-ef0b-4da7-b2ba-2d48b6de531d', embedding=None, metadata={'page_label': '5', 'file_name': 'serenatto_cafes_especiais.pdf', 'file_path': '/content/documentos/serenatto_cafes_especiais.pdf', 'file_type': 'application/pdf', 'file_size': 133957, 'creation_date': '2025-03-12', 'last_modified_date': '2025-03-12'}, excluded_embed_metadata_keys=['file_name', 'file_type', 'file_size', 'creation_date', 'last_modified_date', 'last_accessed_date'], excluded_llm_metadata_keys=['file_name', 'file_type', 'file_size', 'creation_date', 'last_modified_date', 'last_accessed_date'], relationships={}, metadata_template='{key}: {value}', metadata_separator='\\n', text_resource=MediaResource(embeddings=None, data=None, text='Nota  SCA   P:  O  que  é  a  nota  SCA?  R:  A  nota  SCA  (Specialty  Coffee  Association)  é  uma  avaliação  que  classifica  a  \\nqualidade\\n \\ndo\\n \\ncafé\\n \\ncom\\n \\nbase\\n \\nem\\n \\ncritérios\\n \\npadronizados.\\n \\nA\\n \\npontuação\\n \\nvaria\\n \\nde\\n \\n0\\n \\na\\n \\n100,\\n \\ne\\n \\ncafés\\n \\ncom\\n \\nnota\\n \\nacima\\n \\nde\\n \\n80\\n \\nsão\\n \\nconsiderados\\n \\nespeciais.\\n \\nA\\n \\navaliação\\n \\nconsidera\\n \\naspectos\\n \\ncomo\\n \\naroma,\\n \\nsabor,\\n \\nacidez,\\n \\ncorpo,\\n \\nequilíbrio,\\n \\ndoçura\\n \\ne\\n \\nfinalização.\\n \\nCafés\\n \\ncom\\n \\nnotas\\n \\nacima\\n \\nde\\n \\n85\\n \\nsão\\n \\nde\\n \\naltíssima\\n \\nqualidade,\\n \\ne\\n \\nacima\\n \\nde\\n \\n90\\n \\nsão\\n \\nraros\\n \\ne\\n \\nexcepcionais.\\n  P:  Quais  são  as  notas  SCA  dos  cafés  da  Serenatto?  R:  Os  cafés  da  Serenatto  têm  as  seguintes  notas  SCA:  ●  Bourbon  vermelho:  85  ●  Bourbon  amarelo:  86  ●  Blend  especial:  85  ●  Catuaí  amarelo:  87  ●  Geisha:  90  ●  Yirgacheffe:  90    P:  Quais  são  os  cafés  mais  bem  avaliados  da  Serenatto?  R:  Geisha  e  Yirgacheffe.  Ambos  com  Nota  SCA  90.                        ', path=None, url=None, mimetype=None), image_resource=None, audio_resource=None, video_resource=None, text_template='{metadata_str}\\n\\n{content}'),\n",
              " Document(id_='0f1eccdd-d681-4cb4-91d2-f51f1982ef72', embedding=None, metadata={'page_label': '6', 'file_name': 'serenatto_cafes_especiais.pdf', 'file_path': '/content/documentos/serenatto_cafes_especiais.pdf', 'file_type': 'application/pdf', 'file_size': 133957, 'creation_date': '2025-03-12', 'last_modified_date': '2025-03-12'}, excluded_embed_metadata_keys=['file_name', 'file_type', 'file_size', 'creation_date', 'last_modified_date', 'last_accessed_date'], excluded_llm_metadata_keys=['file_name', 'file_type', 'file_size', 'creation_date', 'last_modified_date', 'last_accessed_date'], relationships={}, metadata_template='{key}: {value}', metadata_separator='\\n', text_resource=MediaResource(embeddings=None, data=None, text='Produção  dos  cafés   P:  Quais  são  os  processos  de  produção  dos  cafés?  R:  Nossos  cafés  podem  ter  os  seguintes  processos  de  produção:  -  Natural:  Os  frutos  do  café  (cerejas)  são  secos  inteiros,  resultando  em  cafés  com  \\nalta\\n \\ndoçura,\\n \\ncorpo\\n \\nencorpado\\n \\ne\\n \\nnotas\\n \\nfrutadas\\n \\nou\\n \\nde\\n \\nchocolate.\\n -  Cereja  descascado:  A  casca  dos  frutos  do  café  é  removida,  mas  parte  da  polpa  \\npermanece,\\n \\ngerando\\n \\ncafés\\n \\ncom\\n \\ndoçura\\n \\nequilibrada,\\n \\ncorpo\\n \\nmédio\\n \\na\\n \\nencorpado\\n \\ne\\n \\nacidez\\n \\nmais\\n \\npronunciada,\\n \\ncom\\n \\nnotas\\n \\ncítricas\\n \\ne\\n \\nfrutadas\\n -  Fermentado:  O  processo  fermentado  envolve  a  secagem  das  cerejas  inteiras  \\ncom\\n \\nfermentação\\n \\ncontrolada,\\n \\ndestacando\\n \\nsabores\\n \\nexóticos.\\n  P:  Como  a  torra  influencia  no  sabor  do  café?  R:  As  torras  influenciam  da  seguinte  forma:   -  Torra  clara:  Preserva  notas  frutadas,  florais  e  cítricas,  com  acidez  vibrante  e  \\ncorpo\\n \\nleve.\\n -  Torra  média:  Equilíbrio  entre  doçura  e  acidez,  com  notas  de  chocolate,  caramelo  \\ne\\n \\nnozes,\\n \\nalém\\n \\nde\\n \\num\\n \\ncorpo\\n \\nmais\\n \\nencorpado.\\n -  Torra  escura:  Sabores  intensos  e  amargos,  acidez  baixa  e  corpo  pesado,  comum  \\nem\\n \\ncafés\\n \\npara\\n \\nespresso\\n \\nou\\n \\npara\\n \\nquem\\n \\nprefere\\n \\nsabores\\n \\nmais\\n \\nrobustos.\\n  P:  Como  a  altitude  afeta  os  grãos  de  café?   R:  A  altitude  em  que  os  grãos  de  café  são  cultivados  desempenha  um  papel  \\nfundamental\\n \\nno\\n \\ndesenvolvimento\\n \\ndas\\n \\ncaracterísticas\\n \\ndo\\n \\ncafé.\\n \\nDe\\n \\nmaneira\\n \\ngeral,\\n \\nquanto\\n \\nmaior\\n \\na\\n \\naltitude,\\n \\nmais\\n \\nlentamente\\n \\no\\n \\ncafé\\n \\namadurece.\\n \\nIsso\\n \\nproporciona\\n \\nmais\\n \\ntempo\\n \\npara\\n \\nque\\n \\nos\\n \\ngrãos\\n \\ndesenvolvam\\n \\nsabores\\n \\ncomplexos\\n \\ne\\n \\nnuances\\n \\naromáticas.\\n \\n               ', path=None, url=None, mimetype=None), image_resource=None, audio_resource=None, video_resource=None, text_template='{metadata_str}\\n\\n{content}'),\n",
              " Document(id_='284787f8-7d5e-4e10-801d-51bbeff5e807', embedding=None, metadata={'page_label': '7', 'file_name': 'serenatto_cafes_especiais.pdf', 'file_path': '/content/documentos/serenatto_cafes_especiais.pdf', 'file_type': 'application/pdf', 'file_size': 133957, 'creation_date': '2025-03-12', 'last_modified_date': '2025-03-12'}, excluded_embed_metadata_keys=['file_name', 'file_type', 'file_size', 'creation_date', 'last_modified_date', 'last_accessed_date'], excluded_llm_metadata_keys=['file_name', 'file_type', 'file_size', 'creation_date', 'last_modified_date', 'last_accessed_date'], relationships={}, metadata_template='{key}: {value}', metadata_separator='\\n', text_resource=MediaResource(embeddings=None, data=None, text='Modo  de  preparo  recomendado:  Coado   P:  Quanto  de  café  devo  usar  para  preparar  os  cafés  da  Serenatto?  R:  Para  obter  os  melhores  resultados  na  preparação  dos  nossos  cafés,  sugerimos  \\nseguir\\n \\numa\\n \\nreceita\\n \\nbase\\n \\nonde\\n \\n15\\n \\ngramas\\n \\nde\\n \\ncafé\\n \\nsão\\n \\nusados\\n \\npara\\n \\ncada\\n \\n240\\n \\nmL\\n \\nde\\n \\nágua.\\n \\nEsta\\n \\nproporção\\n \\n(1:16)\\n \\né\\n \\nideal\\n \\npara\\n \\numa\\n \\nextração\\n \\ncompleta\\n \\ndos\\n \\nsabores\\n \\nricos\\n \\ne\\n \\nnuances\\n \\ndo\\n \\ncafé.\\n \\nClaro,\\n \\nvocê\\n \\npode\\n \\najustar\\n \\nas\\n \\nmedidas\\n \\npara\\n \\nmais\\n \\nou\\n \\npara\\n \\nmenos\\n \\nconforme\\n \\nsua\\n \\npreferência.\\n \\nCaso\\n \\nseja\\n \\nsua\\n \\nprimeira\\n \\nexperiência\\n \\ncom\\n \\nnossos\\n \\ncafés,\\n \\nessa\\n \\nreceita\\n \\nserve\\n \\ncomo\\n \\num\\n \\nexcelente\\n \\nponto\\n \\nde\\n \\npartida.\\n  P:  Qual  método  vocês  recomendam  para  preparar  os  cafés  da  Serenatto?  R:  Nós  recomendamos  o  V60,  um  método  de  preparo  de  café  que  se  destaca  pelo  seu  \\nformato\\n \\ncônico\\n \\ncom\\n \\nlinhas\\n \\nespirais\\n \\ninternas\\n \\ne\\n \\numa\\n \\ngrande\\n \\nabertura\\n \\nna\\n \\nbase.\\n \\nEssas\\n \\ncaracterísticas\\n \\npermitem\\n \\num\\n \\ncontrole\\n \\npreciso\\n \\nsobre\\n \\na\\n \\ninfusão,\\n \\nresultando\\n \\nem\\n \\num\\n \\ncafé\\n \\ncom\\n \\nextração\\n \\nuniforme\\n \\ne\\n \\nrica\\n \\nem\\n \\nsabores.\\n  P:  Qual  é  o  passo  a  passo  para  preparar  o  café  coado?  R:  Você  pode  seguir  as  seguintes  etapas  do  preparo:  1.  Preparação  da  água:  Aqueça  a  água  até  uma  temperatura  entre  94ºC  e  96ºC.  2.  Pesagem  do  café:  Use  a  proporção  de  1  grama  de  café  para  cada  16  mL  de  água.  3.  Moagem  do  café:  Moa  o  café  até  atingir  uma  granulação  média-fina,  semelhante  a  \\naçúcar\\n \\ncristal.\\n \\n 4.  Preparação  do  filtro:  Coloque  o  filtro  de  papel  no  suporte  V60.  Antes  de  adicionar  o  \\ncafé,\\n \\nescalde\\n \\no\\n \\nfiltro\\n \\ncom\\n \\nágua\\n \\nquente\\n \\npara\\n \\nremover\\n \\nqualquer\\n \\nsabor\\n \\nde\\n \\npapel\\n \\ne\\n \\npré-aquecer\\n \\no\\n \\nsuporte.\\n 5.  Adição  do  café:  Despeje  o  pó  no  filtro.  6.  Infusão:  Adicione  a  água  quente  lentamente  sobre  o  café,  preferencialmente  em  \\nciclos,\\n \\ncomeçando\\n \\ndo\\n \\ncentro\\n \\ne\\n \\nmovendo\\n \\npara\\n \\nfora\\n \\nem\\n \\nmovimento\\n \\nespiral.\\n \\nIsso\\n \\najuda\\n \\na\\n \\ngarantir\\n \\numa\\n \\nextração\\n \\nuniforme\\n \\nde\\n \\ntodos\\n \\nos\\n \\nsabores\\n \\ne\\n \\naromas.\\n 7.  Finalização:  Após  a  passagem  da  água,  remova  o  filtro  e  descarte-o.  Agora  é  só  \\nservir\\n \\ne\\n \\ndesfrutar\\n \\ndo\\n \\nseu\\n \\ndelicioso\\n \\ncafé.\\n  P:  Que  tipo  de  água  devo  usar  para  fazer  café?   R:  Recomendamos  usar  água  filtrada  com  baixo  teor  de  minerais.  A  qualidade  da  água  \\ntem\\n \\num\\n \\ngrande\\n \\nimpacto\\n \\nno\\n \\nsabor\\n \\nfinal\\n \\ndo\\n \\ncafé,\\n \\npor\\n \\nisso\\n \\nágua\\n \\npura,\\n \\nsem\\n \\ncloro\\n \\nou\\n \\nimpurezas,\\n \\né\\n \\nessencial.\\n     ', path=None, url=None, mimetype=None), image_resource=None, audio_resource=None, video_resource=None, text_template='{metadata_str}\\n\\n{content}'),\n",
              " Document(id_='5b954e8d-d50f-42b0-a702-395779a15067', embedding=None, metadata={'page_label': '8', 'file_name': 'serenatto_cafes_especiais.pdf', 'file_path': '/content/documentos/serenatto_cafes_especiais.pdf', 'file_type': 'application/pdf', 'file_size': 133957, 'creation_date': '2025-03-12', 'last_modified_date': '2025-03-12'}, excluded_embed_metadata_keys=['file_name', 'file_type', 'file_size', 'creation_date', 'last_modified_date', 'last_accessed_date'], excluded_llm_metadata_keys=['file_name', 'file_type', 'file_size', 'creation_date', 'last_modified_date', 'last_accessed_date'], relationships={}, metadata_template='{key}: {value}', metadata_separator='\\n', text_resource=MediaResource(embeddings=None, data=None, text='Café  gelado   P:  Como  posso  preparar  café  gelado?   R:  Para  preparar  um  delicioso  café  gelado,  você  pode  usar  o  método  do  coado,  \\ncontendo\\n \\n40%\\n \\ndo\\n \\nvolume\\n \\nem\\n \\ngelo\\n \\ne\\n \\n60%\\n \\ndo\\n \\nvolume\\n \\nem\\n \\nágua\\n \\nquente,\\n \\nseguindo\\n \\nas\\n \\nseguintes\\n \\netapas:\\n 1.  Pesagem  do  café:  Use  a  proporção  de  1  grama  de  café  para  cada  16  mL  de  água  \\ntotal\\n 2.  Moagem  do  Café:  Moa  o  café  levemente  mais  fino  do  que  o  usado  para  coado  \\nnormal.\\n \\nIsso\\n \\najudará\\n \\nna\\n \\nextração\\n \\ndos\\n \\nsabores,\\n \\ndado\\n \\no\\n \\ntempo\\n \\nde\\n \\ncontato\\n \\nmais\\n \\ncurto\\n \\ncom\\n \\na\\n \\nágua.\\n 3.  Preparação  do  Filtro:  Coloque  o  filtro  de  papel  no  suporte  e  escalde-o  com  água  \\nquente.\\n \\nIsso\\n \\nremove\\n \\nqualquer\\n \\nsabor\\n \\nresidual\\n \\ndo\\n \\npapel\\n \\ne\\n \\najuda\\n \\na\\n \\npré-aquecer\\n \\no\\n \\nsuporte.\\n 4.  Preparação  do  Gelo:  Coloque  gelo  para  ocupar  cerca  de  40%  do  volume  total  da  sua  \\njarra\\n \\nou\\n \\nrecipiente.\\n 5.  Adição  do  café:  Despeje  o  pó  no  filtro.  6.  Pré-infusão:  Adicione  uma  pequena  quantidade  de  água  quente  (entre  94ºC  e  96ºC)  \\nsobre\\n \\no\\n \\ncafé\\n \\nmoído\\n \\nno\\n \\nfiltro,\\n \\nsuficiente\\n \\npara\\n \\numedecer\\n \\ntodo\\n \\no\\n \\ncafé.\\n \\nDeixe\\n \\nem\\n \\npré-infusão\\n \\npor\\n \\n1\\n \\nminuto\\n \\npara\\n \\nliberar\\n \\nos\\n \\nóleos\\n \\nessenciais\\n \\ne\\n \\naromas\\n \\ndo\\n \\ncafé.\\n \\n 7.  Despejo:  Após  a  pré-infusão,  continue  adicionando  a  água  quente  em  ciclos,  \\ndespejando\\n \\nlentamente\\n \\nem\\n \\nmovimentos\\n \\ncirculares\\n \\npara\\n \\ngarantir\\n \\numa\\n \\nextração\\n \\nuniforme.\\n 8.  Finalização:  Após  completar  os  despejos,  deixe  o  café  terminar  de  filtrar  sobre  o  \\ngelo.\\n \\nO\\n \\ngelo\\n \\nderreterá\\n \\nparcialmente,\\n \\nresfriando\\n \\no\\n \\ncafé\\n \\ninstantaneamente\\n \\ne\\n \\ndiluindo-o\\n \\nna\\n \\nproporção\\n \\ncorreta.\\n Este  método  garante  um  café  coado  gelado  refrescante  e  saboroso,  perfeito  para  os  \\ndias\\n \\nmais\\n \\nquentes!\\n              ', path=None, url=None, mimetype=None), image_resource=None, audio_resource=None, video_resource=None, text_template='{metadata_str}\\n\\n{content}'),\n",
              " Document(id_='ecf7af1e-c754-4b9a-9370-d927fcc32c37', embedding=None, metadata={'page_label': '9', 'file_name': 'serenatto_cafes_especiais.pdf', 'file_path': '/content/documentos/serenatto_cafes_especiais.pdf', 'file_type': 'application/pdf', 'file_size': 133957, 'creation_date': '2025-03-12', 'last_modified_date': '2025-03-12'}, excluded_embed_metadata_keys=['file_name', 'file_type', 'file_size', 'creation_date', 'last_modified_date', 'last_accessed_date'], excluded_llm_metadata_keys=['file_name', 'file_type', 'file_size', 'creation_date', 'last_modified_date', 'last_accessed_date'], relationships={}, metadata_template='{key}: {value}', metadata_separator='\\n', text_resource=MediaResource(embeddings=None, data=None, text='Outros  métodos  de  preparo  além  do  recomendado:   P:  Posso  usar  os  cafés  da  Serenatto  em  máquinas  de  espresso?  R:  Sim,  nossos  cafés  podem  ser  usados  em  máquinas  de  espresso.  Para  esse  método,  \\nrecomendamos\\n \\numa\\n \\nmoagem\\n \\nfina\\n \\ne\\n \\ncafés\\n \\ncom\\n \\ntorra\\n \\nmédia\\n \\nou\\n \\nescura,\\n \\ncomo\\n \\no\\n \\nBourbon\\n \\nvermelho\\n \\nou\\n \\no\\n \\nBlend\\n \\nespecial,\\n \\nque\\n \\npossuem\\n \\ncorpo\\n \\nencorpado\\n \\ne\\n \\nsabores\\n \\nintensos.\\n  P:  Vocês  têm  dicas  para  French  Press?  R:  Para  o  French  Press,  recomendamos  uma  moagem  grossa  e  uma  proporção  de  \\n1:15\\n \\n(1\\n \\ngrama\\n \\nde\\n \\ncafé\\n \\npara\\n \\n15\\n \\nmL\\n \\nde\\n \\nágua).\\n \\nUse\\n \\nágua\\n \\na\\n \\n94ºC\\n \\ne\\n \\ndeixe\\n \\no\\n \\ncafé\\n \\nem\\n \\ninfusão\\n \\npor\\n \\n4\\n \\nminutos.\\n \\nDepois,\\n \\npressione\\n \\no\\n \\nêmbolo\\n \\nlentamente\\n \\ne\\n \\nsirva\\n \\nimediatamente.\\n  P:  Qual  café  é  melhor  para  preparo  cold  brew?  R:  Para  cold  brew,  recomendamos  o  Catuaí  amarelo  ou  o  yirgacheffe,  que  possuem  \\nnotas\\n \\nfrutadas\\n \\ne\\n \\nacidez\\n \\nvibrante,\\n \\ncaracterísticas\\n \\nque\\n \\nse\\n \\ndestacam\\n \\nnesse\\n \\nmétodo\\n \\nde\\n \\npreparo.\\n \\nUse\\n \\numa\\n \\nmoagem\\n \\ngrossa\\n \\ne\\n \\ndeixe\\n \\nem\\n \\ninfusão\\n \\npor\\n \\n12\\n \\na\\n \\n24\\n \\nhoras\\n \\nna\\n \\ngeladeira.\\n  P:  Qual  é  a  moagem  ideal  para  diferentes  tipos  de  preparo?   R:  A  moagem  varia  de  acordo  com  o  método  de  preparo:  ●  Espresso:  Moagem  fina  ●  V60:  Moagem  média-fina  ●  French  Press:  Moagem  grossa  ●  Cold  Brew:  Moagem  grossa   Adaptar  a  moagem  ao  método  de  preparo  ajuda  a  maximizar  o  sabor  e  a  qualidade  da  \\nbebida.\\n  P:  Por  que  moer  o  café  na  hora  é  importante?  R:  Moer  o  café  na  hora  é  essencial  para  garantir  uma  bebida  de  alta  qualidade,  pois  \\npreserva\\n \\no\\n \\nfrescor,\\n \\no\\n \\naroma\\n \\ne\\n \\nos\\n \\nsabores\\n \\nnaturais\\n \\ndos\\n \\ngrãos.\\n \\nQuando\\n \\no\\n \\ncafé\\n \\né\\n \\nmoído,\\n \\nseus\\n \\nóleos\\n \\ne\\n \\ncompostos\\n \\naromáticos\\n \\ncomeçam\\n \\na\\n \\nse\\n \\ndegradar\\n \\nrapidamente\\n \\nem\\n \\ncontato\\n \\ncom\\n \\no\\n \\nar.\\n \\nMoer\\n \\nna\\n \\nhora\\n \\nevita\\n \\nessa\\n \\nperda,\\n \\nresultando\\n \\nem\\n \\num\\n \\ncafé\\n \\nmais\\n \\nrico\\n \\ne\\n \\nsaboroso.\\n \\nAlém\\n \\ndisso,\\n \\npermite\\n \\najustar\\n \\na\\n \\nmoagem\\n \\npara\\n \\no\\n \\nmétodo\\n \\nde\\n \\npreparo\\n \\nescolhido,\\n \\ngarantindo\\n \\numa\\n \\nextração\\n \\nequilibrada\\n \\ne\\n \\nevitando\\n \\nsabores\\n \\naguados\\n \\nou\\n \\namargos.\\n \\n \\n ', path=None, url=None, mimetype=None), image_resource=None, audio_resource=None, video_resource=None, text_template='{metadata_str}\\n\\n{content}'),\n",
              " Document(id_='b079151c-191c-47a3-8c7d-8e7ac52011c8', embedding=None, metadata={'page_label': '10', 'file_name': 'serenatto_cafes_especiais.pdf', 'file_path': '/content/documentos/serenatto_cafes_especiais.pdf', 'file_type': 'application/pdf', 'file_size': 133957, 'creation_date': '2025-03-12', 'last_modified_date': '2025-03-12'}, excluded_embed_metadata_keys=['file_name', 'file_type', 'file_size', 'creation_date', 'last_modified_date', 'last_accessed_date'], excluded_llm_metadata_keys=['file_name', 'file_type', 'file_size', 'creation_date', 'last_modified_date', 'last_accessed_date'], relationships={}, metadata_template='{key}: {value}', metadata_separator='\\n', text_resource=MediaResource(embeddings=None, data=None, text='Armazenamento  e  validade   P:  Como  devo  armazenar  os  grãos  de  café  para  manter  a  qualidade?  R:  Recomendamos  armazenar  os  grãos  em  um  recipiente  hermético,  longe  da  umidade  \\ne\\n \\ncalor.\\n \\nEvite\\n \\nguardar\\n \\no\\n \\ncafé\\n \\nna\\n \\ngeladeira,\\n \\npois\\n \\na\\n \\numidade\\n \\ne\\n \\nas\\n \\nvariações\\n \\nde\\n \\ntemperatura\\n \\npodem\\n \\nprejudicar\\n \\no\\n \\nsabor\\n \\ne\\n \\no\\n \\naroma.\\n  P:  Qual  é  a  validade  dos  cafés  da  Serenatto?  R:  Nossos  cafés  são  enviados  recém-torrados  para  garantir  frescor.  Para  uma  \\nexperiência\\n \\nmelhor\\n \\ncom\\n \\nas\\n \\ncaracterísticas\\n \\ndas\\n \\nnotas\\n \\nsensoriais\\n \\ne\\n \\na\\n \\nintensidade\\n \\ndo\\n \\naroma,\\n \\no\\n \\nconsumo\\n \\ndeve\\n \\nser\\n \\nentre\\n \\ntrês\\n \\ne\\n \\nquatro\\n \\nmeses.\\n \\nNo\\n \\nentanto,\\n \\ndepois\\n \\nde\\n \\naberto,\\n \\no\\n \\nconsumo\\n \\ndeve\\n \\nser,\\n \\nde\\n \\npreferência,\\n \\nentre\\n \\nduas\\n \\n(quando\\n \\nestiver\\n \\nmoído)\\n \\na\\n \\nquatro\\n \\nsemanas\\n \\n(em\\n \\ngrãos)\\n \\nda\\n \\ndata\\n \\nda\\n \\ntorra.\\n  ', path=None, url=None, mimetype=None), image_resource=None, audio_resource=None, video_resource=None, text_template='{metadata_str}\\n\\n{content}')]"
            ]
          },
          "metadata": {},
          "execution_count": 7
        }
      ]
    },
    {
      "cell_type": "code",
      "source": [
        "len(docs)"
      ],
      "metadata": {
        "colab": {
          "base_uri": "https://localhost:8080/"
        },
        "id": "kgaQzjbry-kK",
        "outputId": "c6828454-2f1d-4322-b289-ea0474fc854e"
      },
      "execution_count": 8,
      "outputs": [
        {
          "output_type": "execute_result",
          "data": {
            "text/plain": [
              "10"
            ]
          },
          "metadata": {},
          "execution_count": 8
        }
      ]
    },
    {
      "cell_type": "code",
      "source": [
        "print(docs[0].get_metadata_str())"
      ],
      "metadata": {
        "colab": {
          "base_uri": "https://localhost:8080/"
        },
        "id": "7OSMa6FizAqO",
        "outputId": "1b67d3fc-2f62-4b5b-ae6d-b0f00102e480"
      },
      "execution_count": 9,
      "outputs": [
        {
          "output_type": "stream",
          "name": "stdout",
          "text": [
            "page_label: 1\n",
            "file_name: serenatto_cafes_especiais.pdf\n",
            "file_path: /content/documentos/serenatto_cafes_especiais.pdf\n",
            "file_type: application/pdf\n",
            "file_size: 133957\n",
            "creation_date: 2025-03-12\n",
            "last_modified_date: 2025-03-12\n"
          ]
        }
      ]
    },
    {
      "cell_type": "code",
      "source": [
        "docs[0].__dict__"
      ],
      "metadata": {
        "colab": {
          "base_uri": "https://localhost:8080/"
        },
        "id": "lMByOSxGzUnw",
        "outputId": "b6e5175c-5d53-4b86-937a-ba68f499c5df"
      },
      "execution_count": 10,
      "outputs": [
        {
          "output_type": "execute_result",
          "data": {
            "text/plain": [
              "{'id_': '35786cd1-b5ff-43f0-9696-192685e9c533',\n",
              " 'embedding': None,\n",
              " 'metadata': {'page_label': '1',\n",
              "  'file_name': 'serenatto_cafes_especiais.pdf',\n",
              "  'file_path': '/content/documentos/serenatto_cafes_especiais.pdf',\n",
              "  'file_type': 'application/pdf',\n",
              "  'file_size': 133957,\n",
              "  'creation_date': '2025-03-12',\n",
              "  'last_modified_date': '2025-03-12'},\n",
              " 'excluded_embed_metadata_keys': ['file_name',\n",
              "  'file_type',\n",
              "  'file_size',\n",
              "  'creation_date',\n",
              "  'last_modified_date',\n",
              "  'last_accessed_date'],\n",
              " 'excluded_llm_metadata_keys': ['file_name',\n",
              "  'file_type',\n",
              "  'file_size',\n",
              "  'creation_date',\n",
              "  'last_modified_date',\n",
              "  'last_accessed_date'],\n",
              " 'relationships': {},\n",
              " 'metadata_template': '{key}: {value}',\n",
              " 'metadata_separator': '\\n',\n",
              " 'text_resource': MediaResource(embeddings=None, data=None, text='Serenatto  –  Loja  online  de  cafés  especiais   Informações  gerais   P:  Quais  produtos  são  vendidos  no  site  da  Serenatto?  R:  A  Serenatto  é  uma  loja  online  especializada  na  venda  de  grãos  de  cafés  especiais,  \\noferecendo\\n \\ngrãos\\n \\ntorrados,\\n \\nprovenientes\\n \\nde\\n \\nfazendas\\n \\nselecionadas\\n \\nde\\n \\nMinas\\n \\nGerais.\\n \\nTodos\\n \\nos\\n \\nnossos\\n \\ncafés\\n \\npossuem\\n \\nnota\\n \\nSCA\\n \\nacima\\n \\nde\\n \\n80,\\n \\ngarantindo\\n \\nalta\\n \\nqualidade\\n \\ne\\n \\nperfis\\n \\nsensoriais\\n \\nexcepcionais.\\n  P:  De  onde  vêm  os  grãos  de  café  da  Serenatto?   R:  Nossos  grãos  são  cuidadosamente  selecionados  de  fazendas  localizadas  em  Minas  \\nGerais,\\n \\nconhecidas\\n \\npela\\n \\nalta\\n \\nqualidade\\n \\nde\\n \\nseus\\n \\ncafés\\n \\nespeciais.\\n \\nCada\\n \\nfazenda\\n \\né\\n \\nescolhida\\n \\npor\\n \\nsuas\\n \\npráticas\\n \\nsustentáveis\\n \\ne\\n \\npelo\\n \\ncuidado\\n \\nexcepcional\\n \\ncom\\n \\na\\n \\nprodução.\\n  P:  Qual  é  a  quantidade  vendida?  R:  Os  grãos  já  torrados  são  vendidos  em  pacotes  de  250g   P:  Quais  são  as  variedades  de  café  disponíveis?  R:  Trabalhamos  com  as  seguintes  variedades  de  café  em  grãos:  ●  Bourbon  vermelho  ●  Bourbon  amarelo  ●  Blend  especial  (Mistura  de  Bourbon  amarelo  e  vermelho)  ●  Catuaí  amarelo  ●  Geisha  ●  Yirgacheffe   P:  Quais  são  os  preços  de  cada  variedade  de  café?  R:  Os  preços  sãos  os  seguintes:  ●  Bourbon  vermelho:  R$  41,00  ●  Bourbon  amarelo:  R$  43,00  ●  Blend  especial:  R$  37,50  ●  Catuaí  amarelo:  R$  55,00  ●  Geisha:  R$  105,00  ●  Yirgacheffe:  R$  110,00      ', path=None, url=None, mimetype=None),\n",
              " 'image_resource': None,\n",
              " 'audio_resource': None,\n",
              " 'video_resource': None,\n",
              " 'text_template': '{metadata_str}\\n\\n{content}'}"
            ]
          },
          "metadata": {},
          "execution_count": 10
        }
      ]
    },
    {
      "cell_type": "code",
      "source": [
        "# importando a biblioteca\n",
        "from llama_index.core.node_parser import SentenceSplitter\n",
        "node_parser= SentenceSplitter(chunk_size=1200)"
      ],
      "metadata": {
        "id": "hSmhVKqLzbZ8"
      },
      "execution_count": 11,
      "outputs": []
    },
    {
      "cell_type": "code",
      "source": [
        "nodes = node_parser.get_nodes_from_documents(docs,show_progress=True)"
      ],
      "metadata": {
        "colab": {
          "base_uri": "https://localhost:8080/",
          "height": 49,
          "referenced_widgets": [
            "2e9de5fdd7d74fc1b8bf553dbf8b56cf",
            "54309e2d38bf4df8953bc92cecd93ed9",
            "ba3285e294a84338887f60634f56011d",
            "660a926516784b0d8445a924f4241bd0",
            "32567f36e10146359382240e95a25a4f",
            "b964d049203448d484d053ba74d4d4df",
            "a0ac07d44c174e0eb433663688d29161",
            "a31764037e2b45deac32374af85feb4f",
            "449d31336daf4547b421b0e9ff38168b",
            "8cad7f9da6c34a589242394eb0db56ef",
            "2c33dc8a608a4b6f9bef6f07edff80d7"
          ]
        },
        "id": "wcoruETm2pv2",
        "outputId": "9bb4cedc-0802-43ea-ac83-07419994917c"
      },
      "execution_count": 12,
      "outputs": [
        {
          "output_type": "display_data",
          "data": {
            "text/plain": [
              "Parsing nodes:   0%|          | 0/10 [00:00<?, ?it/s]"
            ],
            "application/vnd.jupyter.widget-view+json": {
              "version_major": 2,
              "version_minor": 0,
              "model_id": "2e9de5fdd7d74fc1b8bf553dbf8b56cf"
            }
          },
          "metadata": {}
        }
      ]
    },
    {
      "cell_type": "code",
      "source": [
        "nodes"
      ],
      "metadata": {
        "colab": {
          "base_uri": "https://localhost:8080/"
        },
        "id": "OkmceVrT2yQE",
        "outputId": "df664cc7-c8c6-483d-b5d7-b874bfc0a9ce"
      },
      "execution_count": 13,
      "outputs": [
        {
          "output_type": "execute_result",
          "data": {
            "text/plain": [
              "[TextNode(id_='757a9a46-5ba3-4356-97f9-b192fcce7a37', embedding=None, metadata={'page_label': '1', 'file_name': 'serenatto_cafes_especiais.pdf', 'file_path': '/content/documentos/serenatto_cafes_especiais.pdf', 'file_type': 'application/pdf', 'file_size': 133957, 'creation_date': '2025-03-12', 'last_modified_date': '2025-03-12'}, excluded_embed_metadata_keys=['file_name', 'file_type', 'file_size', 'creation_date', 'last_modified_date', 'last_accessed_date'], excluded_llm_metadata_keys=['file_name', 'file_type', 'file_size', 'creation_date', 'last_modified_date', 'last_accessed_date'], relationships={<NodeRelationship.SOURCE: '1'>: RelatedNodeInfo(node_id='35786cd1-b5ff-43f0-9696-192685e9c533', node_type=<ObjectType.DOCUMENT: '4'>, metadata={'page_label': '1', 'file_name': 'serenatto_cafes_especiais.pdf', 'file_path': '/content/documentos/serenatto_cafes_especiais.pdf', 'file_type': 'application/pdf', 'file_size': 133957, 'creation_date': '2025-03-12', 'last_modified_date': '2025-03-12'}, hash='820b277edf233136c5afd69d8b63f74658d9de4c25893c4e5d205bcb010e8b2e')}, metadata_template='{key}: {value}', metadata_separator='\\n', text='Serenatto  –  Loja  online  de  cafés  especiais   Informações  gerais   P:  Quais  produtos  são  vendidos  no  site  da  Serenatto?  R:  A  Serenatto  é  uma  loja  online  especializada  na  venda  de  grãos  de  cafés  especiais,  \\noferecendo\\n \\ngrãos\\n \\ntorrados,\\n \\nprovenientes\\n \\nde\\n \\nfazendas\\n \\nselecionadas\\n \\nde\\n \\nMinas\\n \\nGerais.\\n \\nTodos\\n \\nos\\n \\nnossos\\n \\ncafés\\n \\npossuem\\n \\nnota\\n \\nSCA\\n \\nacima\\n \\nde\\n \\n80,\\n \\ngarantindo\\n \\nalta\\n \\nqualidade\\n \\ne\\n \\nperfis\\n \\nsensoriais\\n \\nexcepcionais.\\n  P:  De  onde  vêm  os  grãos  de  café  da  Serenatto?   R:  Nossos  grãos  são  cuidadosamente  selecionados  de  fazendas  localizadas  em  Minas  \\nGerais,\\n \\nconhecidas\\n \\npela\\n \\nalta\\n \\nqualidade\\n \\nde\\n \\nseus\\n \\ncafés\\n \\nespeciais.\\n \\nCada\\n \\nfazenda\\n \\né\\n \\nescolhida\\n \\npor\\n \\nsuas\\n \\npráticas\\n \\nsustentáveis\\n \\ne\\n \\npelo\\n \\ncuidado\\n \\nexcepcional\\n \\ncom\\n \\na\\n \\nprodução.\\n  P:  Qual  é  a  quantidade  vendida?  R:  Os  grãos  já  torrados  são  vendidos  em  pacotes  de  250g   P:  Quais  são  as  variedades  de  café  disponíveis?  R:  Trabalhamos  com  as  seguintes  variedades  de  café  em  grãos:  ●  Bourbon  vermelho  ●  Bourbon  amarelo  ●  Blend  especial  (Mistura  de  Bourbon  amarelo  e  vermelho)  ●  Catuaí  amarelo  ●  Geisha  ●  Yirgacheffe   P:  Quais  são  os  preços  de  cada  variedade  de  café?  R:  Os  preços  sãos  os  seguintes:  ●  Bourbon  vermelho:  R$  41,00  ●  Bourbon  amarelo:  R$  43,00  ●  Blend  especial:  R$  37,50  ●  Catuaí  amarelo:  R$  55,00  ●  Geisha:  R$  105,00  ●  Yirgacheffe:  R$  110,00', mimetype='text/plain', start_char_idx=0, end_char_idx=1515, metadata_seperator='\\n', text_template='{metadata_str}\\n\\n{content}'),\n",
              " TextNode(id_='1f727512-75c4-4d2c-a6f7-dc09de918629', embedding=None, metadata={'page_label': '2', 'file_name': 'serenatto_cafes_especiais.pdf', 'file_path': '/content/documentos/serenatto_cafes_especiais.pdf', 'file_type': 'application/pdf', 'file_size': 133957, 'creation_date': '2025-03-12', 'last_modified_date': '2025-03-12'}, excluded_embed_metadata_keys=['file_name', 'file_type', 'file_size', 'creation_date', 'last_modified_date', 'last_accessed_date'], excluded_llm_metadata_keys=['file_name', 'file_type', 'file_size', 'creation_date', 'last_modified_date', 'last_accessed_date'], relationships={<NodeRelationship.SOURCE: '1'>: RelatedNodeInfo(node_id='6eb67009-5328-4c79-a35f-95082445e88f', node_type=<ObjectType.DOCUMENT: '4'>, metadata={'page_label': '2', 'file_name': 'serenatto_cafes_especiais.pdf', 'file_path': '/content/documentos/serenatto_cafes_especiais.pdf', 'file_type': 'application/pdf', 'file_size': 133957, 'creation_date': '2025-03-12', 'last_modified_date': '2025-03-12'}, hash='bec847adca4a9c68d4526807d4fdfcd29c4c111dea59690f379b9554edd6a790')}, metadata_template='{key}: {value}', metadata_separator='\\n', text='P:  A  Serenatto  oferece  cafés  descafeinados?  R:  No  momento,  trabalhamos  apenas  com  cafés  especiais  que  contêm  cafeína.  Todos  \\nos\\n \\nnossos\\n \\ngrãos\\n \\nsão\\n \\nselecionados\\n \\npara\\n \\noferecer\\n \\na\\n \\nmelhor\\n \\nexperiência\\n \\nsensorial,\\n \\nmas\\n \\nnão\\n \\ntemos\\n \\nopções\\n \\ndescafeinadas\\n \\nem\\n \\nnosso\\n \\nportfólio.\\n  P:  Vocês  enviam  para  todos  os  estados  brasileiros?  R:  Sim,  os  cafés  são  enviados  para  todos  os  estados  brasileiros.    P:  Qual  é  o  prazo  de  envio?  R:  O  envio  dos  pedidos  é  realizado  em  até  3  dias  úteis  após  a  confirmação  do  \\npagamento,\\n \\npois\\n \\nenviamos\\n \\no\\n \\ncafé\\n \\nrecém\\n \\ntorrado\\n \\npara\\n \\ngarantir\\n \\nfrescor\\n \\ne\\n \\nqualidade.\\n  P:  Quais  são  os  métodos  de  pagamento  aceitos?  R:  Aceitamos  PIX,  boleto  bancário  e  cartão  de  crédito.   P:  Vocês  oferecem  cursos  ou  workshops  sobre  café?  R:  Estamos  planejando  oferecer  workshops  e  cursos  sobre  métodos  de  preparo  e  \\ndegustação\\n \\nde\\n \\ncafé\\n \\nem\\n \\nbreve.\\n \\nFique\\n \\nde\\n \\nolho\\n \\nem\\n \\nnossas\\n \\nredes\\n \\nsociais\\n \\ne\\n \\nnewsletter\\n \\npara\\n \\nmais\\n \\ninformações.\\n  P:  A  Serenatto  oferece  um  serviço  de  assinatura?   R:  Atualmente,  não  oferecemos  um  serviço  de  assinatura.  No  entanto,  você  pode  \\nrealizar\\n \\npedidos\\n \\nrecorrentes\\n \\nmanualmente\\n \\natravés\\n \\nde\\n \\nnosso\\n \\nsite.\\n \\nEstamos\\n \\nsempre\\n \\navaliando\\n \\nnovos\\n \\nserviços\\n \\nque\\n \\npossam\\n \\nmelhorar\\n \\na\\n \\nexperiência\\n \\nde\\n \\nnossos\\n \\nclientes,\\n \\nentão\\n \\nfique\\n \\natento\\n \\nàs\\n \\natualizações\\n \\nfuturas.\\n  P:  Onde  posso  tirar  mais  dúvidas?  R:  Para  mais  informações,  entre  em  contato  pelo  whatsapp  (11)  99999-9999  ou  envie  \\nemail\\n \\npara\\n \\ncontato@serenatto.com.br.', mimetype='text/plain', start_char_idx=0, end_char_idx=1671, metadata_seperator='\\n', text_template='{metadata_str}\\n\\n{content}'),\n",
              " TextNode(id_='fc15abd8-cebe-4fc0-9ac0-c51ebd56b635', embedding=None, metadata={'page_label': '3', 'file_name': 'serenatto_cafes_especiais.pdf', 'file_path': '/content/documentos/serenatto_cafes_especiais.pdf', 'file_type': 'application/pdf', 'file_size': 133957, 'creation_date': '2025-03-12', 'last_modified_date': '2025-03-12'}, excluded_embed_metadata_keys=['file_name', 'file_type', 'file_size', 'creation_date', 'last_modified_date', 'last_accessed_date'], excluded_llm_metadata_keys=['file_name', 'file_type', 'file_size', 'creation_date', 'last_modified_date', 'last_accessed_date'], relationships={<NodeRelationship.SOURCE: '1'>: RelatedNodeInfo(node_id='d43ec3b2-b519-4a4d-9e08-7521fa26028f', node_type=<ObjectType.DOCUMENT: '4'>, metadata={'page_label': '3', 'file_name': 'serenatto_cafes_especiais.pdf', 'file_path': '/content/documentos/serenatto_cafes_especiais.pdf', 'file_type': 'application/pdf', 'file_size': 133957, 'creation_date': '2025-03-12', 'last_modified_date': '2025-03-12'}, hash='65b2a41b84abe02a09183b5af96433fa65bc66d1ee2b2b14ad412aa9d26e11e2')}, metadata_template='{key}: {value}', metadata_separator='\\n', text='Variedades  dos  grãos   P:  Quais  são  as  características  de  cada  variedade  de  café?  R:  As  variedades  têm  as  seguintes  características:  ●  Bourbon  vermelho:  Doçura  intensa,  corpo  encorpado,  notas  de  chocolate.  ●  Bourbon  amarelo:  Acidez  vibrante,  notas  cítricas  de  maracujá,  ameixa  e  nêspera .   ●  Blend  especial:  Mistura  do  bourbon  vermelho  e  bourbon  amarelo,  gerando  \\nequilíbrio\\n \\nentre\\n \\ndoçura\\n \\ne\\n \\nacidez,\\n \\ncom\\n \\nnotas\\n \\nde\\n \\ncaramelo\\n \\ne\\n \\nchocolate.\\n ●  Catuaí  amarelo:  Perfil  exótico,  que  carrega  uma  expressiva  acidez  e  notas  de  \\nacerola\\n \\ne\\n \\npitanga.\\n \\n ●  Geisha:  Aroma  floral,  notas  de  jasmim  e  mamão  papaya.   ●  Yirgacheffe:  Acidez  vibrante,  notas  de  mel  de  laranjeira,  chá  de  capim-limão  e  \\nmaçã\\n \\nfuji.\\n \\n  P:  Quero  saber  mais  detalhes  sobre  o  Bourbon  vermelho.  R:  Este  café  possui  doçura  máxima  (5/5),  que  causa  sensação  aveludada  no  céu  da  \\nboca.\\n \\nO\\n \\ncorpo\\n \\né\\n \\nencorpado\\n \\n(5/5)\\n \\ne\\n \\na\\n \\nacidez\\n \\né\\n \\nbaixa\\n \\n(1/5),\\n \\ncom\\n \\num\\n \\nleve\\n \\namargor\\n \\n(2/5).\\n \\nSeu\\n \\nperfil\\n \\nsensorial\\n \\né\\n \\nmarcado\\n \\npor\\n \\nnotas\\n \\nde\\n \\nchocolate.\\n \\nO\\n \\nprocesso\\n \\nde\\n \\nprodução\\n \\né\\n \\nnatural,\\n \\ncultivado\\n \\nem\\n \\naltitudes\\n \\nentre\\n \\n1.200m\\n \\ne\\n \\n1.450m,\\n \\ncom\\n \\ntorra\\n \\nmédia\\n \\nescura.\\n \\n  P:  Quero  mais  detalhes  sobre  o  Bourbon  amarelo.  R:  Este  café  possui  doçura  moderada  (3/5),  corpo  médio  (3/5),  alta  acidez  (5/5)  e  baixo  \\namargor\\n \\n(1/5).\\n \\nPossui\\n \\nsabor\\n \\nresidual\\n \\nlongo\\n \\ne\\n \\nintenso\\n \\nde\\n \\nfrutas\\n \\ncítricas,\\n \\nincluindo\\n \\nnotas\\n \\nde\\n \\nmaracujá,\\n \\nameixa\\n \\ne\\n \\nnêspera.\\n \\nO\\n \\nprocesso\\n \\nutilizado\\n \\né\\n \\no\\n \\ncereja\\n \\ndescascado,\\n \\ncultivado\\n \\nem\\n \\naltitudes\\n \\nentre\\n \\n1.200m\\n \\ne\\n \\n1.450m,\\n \\ncom\\n \\ntorra\\n \\nmédia\\n \\nclara.\\n \\n  P:  Quero  saber  mais  detalhes  sobre  o  Blend  especial.  R:  É  uma  mistura  do  Bourbon  amarelo  com  o  Bourbon  vermelho,  ideal  para  quem  \\nbusca\\n \\no\\n \\nequilíbrio\\n \\nperfeito.\\n \\nEsta\\n \\nmistura\\n \\napresenta\\n \\ndoçura\\n \\nalta\\n \\n(4/5),\\n \\ncorpo\\n \\nmédio-alto\\n \\n(4/5)\\n \\ne\\n \\nacidez\\n \\nmédia-alta\\n \\n(4/5),\\n \\ncom\\n \\namargor\\n \\nbaixo\\n \\n(1/5).\\n \\nSeu\\n \\nperfil\\n \\nsensorial\\n \\ncombina\\n \\ncaramelo\\n \\ne\\n \\nchocolate.\\n \\nO\\n \\nprocesso\\n \\ninclui\\n \\ncereja\\n \\ndescascado\\n \\ne\\n \\nnatural,\\n \\ncultivado\\n \\nem\\n \\naltitudes\\n \\nentre\\n \\n1.200m\\n \\ne\\n \\n1.450m,\\n \\ncom\\n \\ntorra\\n \\nmédia.\\n  P:  Quero  mais  detalhes  sobre  o  Catuaí  amarelo.  R:  Este  café  possui  doçura  máxima  (5/5)  e  corpo  médio-alto  (4/5)  e  amargor  baixo  \\n(1/5).\\n \\nEle\\n \\nainda\\n \\ncarrega\\n \\numa\\n \\nexpressiva\\n \\nacidez\\n \\ne\\n \\nnotas\\n \\nmaravilhosas\\n \\nde\\n \\npitanga,\\n \\nfugindo\\n \\nmuito\\n \\ndo\\n \\ntradicional.\\n \\nÉ\\n \\num\\n \\ncafé\\n \\npara\\n \\nquem\\n \\nbusca\\n \\numa\\n \\nexperiência\\n \\nsensorial\\n \\ndiferenciada.\\n \\nO\\n \\nprocesso\\n \\né\\n \\nfermentado,\\n \\ncultivado\\n \\nem\\n \\naltitude\\n \\nde\\n \\n1.200m,\\n \\ncom\\n \\ntorra\\n \\nmédia.', mimetype='text/plain', start_char_idx=0, end_char_idx=2787, metadata_seperator='\\n', text_template='{metadata_str}\\n\\n{content}'),\n",
              " TextNode(id_='2027cf24-7c1b-4057-a600-f5a4bfb6ba82', embedding=None, metadata={'page_label': '4', 'file_name': 'serenatto_cafes_especiais.pdf', 'file_path': '/content/documentos/serenatto_cafes_especiais.pdf', 'file_type': 'application/pdf', 'file_size': 133957, 'creation_date': '2025-03-12', 'last_modified_date': '2025-03-12'}, excluded_embed_metadata_keys=['file_name', 'file_type', 'file_size', 'creation_date', 'last_modified_date', 'last_accessed_date'], excluded_llm_metadata_keys=['file_name', 'file_type', 'file_size', 'creation_date', 'last_modified_date', 'last_accessed_date'], relationships={<NodeRelationship.SOURCE: '1'>: RelatedNodeInfo(node_id='e577b40b-05ef-4cb6-b0f1-d140e2dad84c', node_type=<ObjectType.DOCUMENT: '4'>, metadata={'page_label': '4', 'file_name': 'serenatto_cafes_especiais.pdf', 'file_path': '/content/documentos/serenatto_cafes_especiais.pdf', 'file_type': 'application/pdf', 'file_size': 133957, 'creation_date': '2025-03-12', 'last_modified_date': '2025-03-12'}, hash='b82102440f6699a6ddd49badfc337f8b613231e32c580166af49db205c8a577f')}, metadata_template='{key}: {value}', metadata_separator='\\n', text='P:  Quero  saber  mais  detalhes  sobre  o  Geisha.  R:  Este  café  premium  possui  doçura  máxima  (5/5),  corpo  encorpado  (5/5)  e  acidez  \\nmoderada-alta\\n \\n(4/5),\\n \\ncom\\n \\namargor\\n \\nbaixo\\n \\n(1/5).\\n \\nSeu\\n \\nperfil\\n \\nsensorial\\n \\ntem\\n \\naroma\\n \\nfloral\\n \\ne\\n \\né\\n \\nmarcado\\n \\npor\\n \\nnotas\\n \\nde\\n \\njasmim\\n \\ne\\n \\nmamão\\n \\npapaya.\\n \\nO\\n \\nprocesso\\n \\né\\n \\nfermentado,\\n \\ncultivado\\n \\nem\\n \\naltitude\\n \\nde\\n \\n1.150m,\\n \\ncom\\n \\ntorra\\n \\nclara.\\n  P:  Quero  saber  mais  detalhes  sobre  o  Yirgacheffe.   R:  Este  café  premium  possui  doçura  máxima  (5/5)  e  corpo  médio-alto  (4/5),  \\ndestacando-se\\n \\npela\\n \\nalta\\n \\nacidez\\n \\n(5/5)\\n \\ne\\n \\namargor\\n \\nbaixo\\n \\n(1/5).\\n \\nSeu\\n \\nperfil\\n \\nsensorial\\n \\ninclui\\n \\nnotas\\n \\nde\\n \\nmel\\n \\nde\\n \\nlaranjeira,\\n \\nchá\\n \\nde\\n \\ncapim-limão\\n \\ne\\n \\nmaçã\\n \\nfuji.\\n \\nA\\n \\nacidez\\n \\né\\n \\nvibrante,\\n \\ncom\\n \\ncorpo\\n \\nsedoso\\n \\ne\\n \\nfinalização\\n \\ndoce\\n \\nfrutada.\\n \\nO\\n \\nprocesso\\n \\né\\n \\nfermentado,\\n \\ncultivado\\n \\nem\\n \\naltitude\\n \\nde\\n \\n1.300m,\\n \\ncom\\n \\ntorra\\n \\nclara.\\n \\n  P:  Qual  café  da  Serenatto  é  mais  indicado  para  quem  prefere  sabores  suaves?  R:  Para  quem  prefere  sabores  suaves,  recomendamos  o  Bourbon  Vermelho,  que  \\npossui\\n \\ndoçura\\n \\nintensa,\\n \\ncorpo\\n \\nencorpado\\n \\ne\\n \\nnotas\\n \\nde\\n \\nchocolate,\\n \\ncom\\n \\nacidez\\n \\nbaixa\\n \\ne\\n \\namargor\\n \\nleve.\\n  P:  Qual  café  é  mais  indicado  para  quem  gosta  de  acidez  marcante?  R:  Se  você  aprecia  acidez  vibrante,  experimente  o  Bourbon  amarelo,  Catuaí  amarelo  \\nou\\n \\no\\n \\nYirgacheffe.\\n \\nAmbos\\n \\npossuem\\n \\nacidez\\n \\nalta\\n \\ne\\n \\nnotas\\n \\ncítricas\\n \\ne\\n \\nfrutadas\\n \\nque\\n \\ndestacam\\n \\nessa\\n \\ncaracterística.\\n  P:  Vocês  têm  cafés  com  notas  florais?  R:  Sim,  o  Geisha  é  a  melhor  opção  para  quem  busca  notas  florais.  Ele  possui  aroma  de  \\njasmim\\n \\ne\\n \\nnotas\\n \\nde\\n \\nmamão\\n \\npapaya,\\n \\ncom\\n \\numa\\n \\nacidez\\n \\nagradável\\n \\ne\\n \\ndoçura\\n \\nmáxima.\\n  P:  Como  posso  identificar  notas  diferentes  no  café?   R:  Identificar  notas  em  café  é  uma  habilidade  que  pode  ser  aprimorada  com  a  prática.  \\nComece\\n \\nprovando\\n \\ncafés\\n \\nde\\n \\ndiferentes\\n \\nregiões\\n \\ne\\n \\nprestando\\n \\natenção\\n \\nàs\\n \\ndescrições\\n \\ndas\\n \\nnotas\\n \\nna\\n \\nembalagem.\\n \\nTente\\n \\nidentificar\\n \\nessas\\n \\nnotas\\n \\nenquanto\\n \\nsaboreia\\n \\nlentamente,\\n \\nprestando\\n \\natenção\\n \\nao\\n \\naroma,\\n \\nsabor\\n \\ne\\n \\nsensação\\n \\nna\\n \\nboca.', mimetype='text/plain', start_char_idx=0, end_char_idx=2247, metadata_seperator='\\n', text_template='{metadata_str}\\n\\n{content}'),\n",
              " TextNode(id_='05c71aca-857c-4d6a-bd51-3496c0512a44', embedding=None, metadata={'page_label': '5', 'file_name': 'serenatto_cafes_especiais.pdf', 'file_path': '/content/documentos/serenatto_cafes_especiais.pdf', 'file_type': 'application/pdf', 'file_size': 133957, 'creation_date': '2025-03-12', 'last_modified_date': '2025-03-12'}, excluded_embed_metadata_keys=['file_name', 'file_type', 'file_size', 'creation_date', 'last_modified_date', 'last_accessed_date'], excluded_llm_metadata_keys=['file_name', 'file_type', 'file_size', 'creation_date', 'last_modified_date', 'last_accessed_date'], relationships={<NodeRelationship.SOURCE: '1'>: RelatedNodeInfo(node_id='336ffb1f-ef0b-4da7-b2ba-2d48b6de531d', node_type=<ObjectType.DOCUMENT: '4'>, metadata={'page_label': '5', 'file_name': 'serenatto_cafes_especiais.pdf', 'file_path': '/content/documentos/serenatto_cafes_especiais.pdf', 'file_type': 'application/pdf', 'file_size': 133957, 'creation_date': '2025-03-12', 'last_modified_date': '2025-03-12'}, hash='7b9d1a9704af83f36026eef834fecb8eea42db04f1cf9e466ee59b770fe355d3')}, metadata_template='{key}: {value}', metadata_separator='\\n', text='Nota  SCA   P:  O  que  é  a  nota  SCA?  R:  A  nota  SCA  (Specialty  Coffee  Association)  é  uma  avaliação  que  classifica  a  \\nqualidade\\n \\ndo\\n \\ncafé\\n \\ncom\\n \\nbase\\n \\nem\\n \\ncritérios\\n \\npadronizados.\\n \\nA\\n \\npontuação\\n \\nvaria\\n \\nde\\n \\n0\\n \\na\\n \\n100,\\n \\ne\\n \\ncafés\\n \\ncom\\n \\nnota\\n \\nacima\\n \\nde\\n \\n80\\n \\nsão\\n \\nconsiderados\\n \\nespeciais.\\n \\nA\\n \\navaliação\\n \\nconsidera\\n \\naspectos\\n \\ncomo\\n \\naroma,\\n \\nsabor,\\n \\nacidez,\\n \\ncorpo,\\n \\nequilíbrio,\\n \\ndoçura\\n \\ne\\n \\nfinalização.\\n \\nCafés\\n \\ncom\\n \\nnotas\\n \\nacima\\n \\nde\\n \\n85\\n \\nsão\\n \\nde\\n \\naltíssima\\n \\nqualidade,\\n \\ne\\n \\nacima\\n \\nde\\n \\n90\\n \\nsão\\n \\nraros\\n \\ne\\n \\nexcepcionais.\\n  P:  Quais  são  as  notas  SCA  dos  cafés  da  Serenatto?  R:  Os  cafés  da  Serenatto  têm  as  seguintes  notas  SCA:  ●  Bourbon  vermelho:  85  ●  Bourbon  amarelo:  86  ●  Blend  especial:  85  ●  Catuaí  amarelo:  87  ●  Geisha:  90  ●  Yirgacheffe:  90    P:  Quais  são  os  cafés  mais  bem  avaliados  da  Serenatto?  R:  Geisha  e  Yirgacheffe.  Ambos  com  Nota  SCA  90.', mimetype='text/plain', start_char_idx=0, end_char_idx=967, metadata_seperator='\\n', text_template='{metadata_str}\\n\\n{content}'),\n",
              " TextNode(id_='d9a98c29-24ff-4e75-a44d-c97e095242ca', embedding=None, metadata={'page_label': '6', 'file_name': 'serenatto_cafes_especiais.pdf', 'file_path': '/content/documentos/serenatto_cafes_especiais.pdf', 'file_type': 'application/pdf', 'file_size': 133957, 'creation_date': '2025-03-12', 'last_modified_date': '2025-03-12'}, excluded_embed_metadata_keys=['file_name', 'file_type', 'file_size', 'creation_date', 'last_modified_date', 'last_accessed_date'], excluded_llm_metadata_keys=['file_name', 'file_type', 'file_size', 'creation_date', 'last_modified_date', 'last_accessed_date'], relationships={<NodeRelationship.SOURCE: '1'>: RelatedNodeInfo(node_id='0f1eccdd-d681-4cb4-91d2-f51f1982ef72', node_type=<ObjectType.DOCUMENT: '4'>, metadata={'page_label': '6', 'file_name': 'serenatto_cafes_especiais.pdf', 'file_path': '/content/documentos/serenatto_cafes_especiais.pdf', 'file_type': 'application/pdf', 'file_size': 133957, 'creation_date': '2025-03-12', 'last_modified_date': '2025-03-12'}, hash='7d31d424a8649ebae7cda3b323e92e3d6f9976ff390cf6ac18135ace057bdac6')}, metadata_template='{key}: {value}', metadata_separator='\\n', text='Produção  dos  cafés   P:  Quais  são  os  processos  de  produção  dos  cafés?  R:  Nossos  cafés  podem  ter  os  seguintes  processos  de  produção:  -  Natural:  Os  frutos  do  café  (cerejas)  são  secos  inteiros,  resultando  em  cafés  com  \\nalta\\n \\ndoçura,\\n \\ncorpo\\n \\nencorpado\\n \\ne\\n \\nnotas\\n \\nfrutadas\\n \\nou\\n \\nde\\n \\nchocolate.\\n -  Cereja  descascado:  A  casca  dos  frutos  do  café  é  removida,  mas  parte  da  polpa  \\npermanece,\\n \\ngerando\\n \\ncafés\\n \\ncom\\n \\ndoçura\\n \\nequilibrada,\\n \\ncorpo\\n \\nmédio\\n \\na\\n \\nencorpado\\n \\ne\\n \\nacidez\\n \\nmais\\n \\npronunciada,\\n \\ncom\\n \\nnotas\\n \\ncítricas\\n \\ne\\n \\nfrutadas\\n -  Fermentado:  O  processo  fermentado  envolve  a  secagem  das  cerejas  inteiras  \\ncom\\n \\nfermentação\\n \\ncontrolada,\\n \\ndestacando\\n \\nsabores\\n \\nexóticos.\\n  P:  Como  a  torra  influencia  no  sabor  do  café?  R:  As  torras  influenciam  da  seguinte  forma:   -  Torra  clara:  Preserva  notas  frutadas,  florais  e  cítricas,  com  acidez  vibrante  e  \\ncorpo\\n \\nleve.\\n -  Torra  média:  Equilíbrio  entre  doçura  e  acidez,  com  notas  de  chocolate,  caramelo  \\ne\\n \\nnozes,\\n \\nalém\\n \\nde\\n \\num\\n \\ncorpo\\n \\nmais\\n \\nencorpado.\\n -  Torra  escura:  Sabores  intensos  e  amargos,  acidez  baixa  e  corpo  pesado,  comum  \\nem\\n \\ncafés\\n \\npara\\n \\nespresso\\n \\nou\\n \\npara\\n \\nquem\\n \\nprefere\\n \\nsabores\\n \\nmais\\n \\nrobustos.\\n  P:  Como  a  altitude  afeta  os  grãos  de  café?   R:  A  altitude  em  que  os  grãos  de  café  são  cultivados  desempenha  um  papel  \\nfundamental\\n \\nno\\n \\ndesenvolvimento\\n \\ndas\\n \\ncaracterísticas\\n \\ndo\\n \\ncafé.\\n \\nDe\\n \\nmaneira\\n \\ngeral,\\n \\nquanto\\n \\nmaior\\n \\na\\n \\naltitude,\\n \\nmais\\n \\nlentamente\\n \\no\\n \\ncafé\\n \\namadurece.\\n \\nIsso\\n \\nproporciona\\n \\nmais\\n \\ntempo\\n \\npara\\n \\nque\\n \\nos\\n \\ngrãos\\n \\ndesenvolvam\\n \\nsabores\\n \\ncomplexos\\n \\ne\\n \\nnuances\\n \\naromáticas.', mimetype='text/plain', start_char_idx=0, end_char_idx=1742, metadata_seperator='\\n', text_template='{metadata_str}\\n\\n{content}'),\n",
              " TextNode(id_='57e09be9-7655-4738-b30a-7fe4a8d8f38c', embedding=None, metadata={'page_label': '7', 'file_name': 'serenatto_cafes_especiais.pdf', 'file_path': '/content/documentos/serenatto_cafes_especiais.pdf', 'file_type': 'application/pdf', 'file_size': 133957, 'creation_date': '2025-03-12', 'last_modified_date': '2025-03-12'}, excluded_embed_metadata_keys=['file_name', 'file_type', 'file_size', 'creation_date', 'last_modified_date', 'last_accessed_date'], excluded_llm_metadata_keys=['file_name', 'file_type', 'file_size', 'creation_date', 'last_modified_date', 'last_accessed_date'], relationships={<NodeRelationship.SOURCE: '1'>: RelatedNodeInfo(node_id='284787f8-7d5e-4e10-801d-51bbeff5e807', node_type=<ObjectType.DOCUMENT: '4'>, metadata={'page_label': '7', 'file_name': 'serenatto_cafes_especiais.pdf', 'file_path': '/content/documentos/serenatto_cafes_especiais.pdf', 'file_type': 'application/pdf', 'file_size': 133957, 'creation_date': '2025-03-12', 'last_modified_date': '2025-03-12'}, hash='1e70188952fad1d0efcd020911e508a9dd2cf51c4a16f964c0c7c1c6868c68ec')}, metadata_template='{key}: {value}', metadata_separator='\\n', text='Modo  de  preparo  recomendado:  Coado   P:  Quanto  de  café  devo  usar  para  preparar  os  cafés  da  Serenatto?  R:  Para  obter  os  melhores  resultados  na  preparação  dos  nossos  cafés,  sugerimos  \\nseguir\\n \\numa\\n \\nreceita\\n \\nbase\\n \\nonde\\n \\n15\\n \\ngramas\\n \\nde\\n \\ncafé\\n \\nsão\\n \\nusados\\n \\npara\\n \\ncada\\n \\n240\\n \\nmL\\n \\nde\\n \\nágua.\\n \\nEsta\\n \\nproporção\\n \\n(1:16)\\n \\né\\n \\nideal\\n \\npara\\n \\numa\\n \\nextração\\n \\ncompleta\\n \\ndos\\n \\nsabores\\n \\nricos\\n \\ne\\n \\nnuances\\n \\ndo\\n \\ncafé.\\n \\nClaro,\\n \\nvocê\\n \\npode\\n \\najustar\\n \\nas\\n \\nmedidas\\n \\npara\\n \\nmais\\n \\nou\\n \\npara\\n \\nmenos\\n \\nconforme\\n \\nsua\\n \\npreferência.\\n \\nCaso\\n \\nseja\\n \\nsua\\n \\nprimeira\\n \\nexperiência\\n \\ncom\\n \\nnossos\\n \\ncafés,\\n \\nessa\\n \\nreceita\\n \\nserve\\n \\ncomo\\n \\num\\n \\nexcelente\\n \\nponto\\n \\nde\\n \\npartida.\\n  P:  Qual  método  vocês  recomendam  para  preparar  os  cafés  da  Serenatto?  R:  Nós  recomendamos  o  V60,  um  método  de  preparo  de  café  que  se  destaca  pelo  seu  \\nformato\\n \\ncônico\\n \\ncom\\n \\nlinhas\\n \\nespirais\\n \\ninternas\\n \\ne\\n \\numa\\n \\ngrande\\n \\nabertura\\n \\nna\\n \\nbase.\\n \\nEssas\\n \\ncaracterísticas\\n \\npermitem\\n \\num\\n \\ncontrole\\n \\npreciso\\n \\nsobre\\n \\na\\n \\ninfusão,\\n \\nresultando\\n \\nem\\n \\num\\n \\ncafé\\n \\ncom\\n \\nextração\\n \\nuniforme\\n \\ne\\n \\nrica\\n \\nem\\n \\nsabores.\\n  P:  Qual  é  o  passo  a  passo  para  preparar  o  café  coado?  R:  Você  pode  seguir  as  seguintes  etapas  do  preparo:  1.  Preparação  da  água:  Aqueça  a  água  até  uma  temperatura  entre  94ºC  e  96ºC.  2.  Pesagem  do  café:  Use  a  proporção  de  1  grama  de  café  para  cada  16  mL  de  água.  3.  Moagem  do  café:  Moa  o  café  até  atingir  uma  granulação  média-fina,  semelhante  a  \\naçúcar\\n \\ncristal.\\n \\n 4.  Preparação  do  filtro:  Coloque  o  filtro  de  papel  no  suporte  V60.  Antes  de  adicionar  o  \\ncafé,\\n \\nescalde\\n \\no\\n \\nfiltro\\n \\ncom\\n \\nágua\\n \\nquente\\n \\npara\\n \\nremover\\n \\nqualquer\\n \\nsabor\\n \\nde\\n \\npapel\\n \\ne\\n \\npré-aquecer\\n \\no\\n \\nsuporte.\\n 5.  Adição  do  café:  Despeje  o  pó  no  filtro.  6.  Infusão:  Adicione  a  água  quente  lentamente  sobre  o  café,  preferencialmente  em  \\nciclos,\\n \\ncomeçando\\n \\ndo\\n \\ncentro\\n \\ne\\n \\nmovendo\\n \\npara\\n \\nfora\\n \\nem\\n \\nmovimento\\n \\nespiral.\\n \\nIsso\\n \\najuda\\n \\na\\n \\ngarantir\\n \\numa\\n \\nextração\\n \\nuniforme\\n \\nde\\n \\ntodos\\n \\nos\\n \\nsabores\\n \\ne\\n \\naromas.\\n 7.  Finalização:  Após  a  passagem  da  água,  remova  o  filtro  e  descarte-o.  Agora  é  só  \\nservir\\n \\ne\\n \\ndesfrutar\\n \\ndo\\n \\nseu\\n \\ndelicioso\\n \\ncafé.\\n  P:  Que  tipo  de  água  devo  usar  para  fazer  café?   R:  Recomendamos  usar  água  filtrada  com  baixo  teor  de  minerais.  A  qualidade  da  água  \\ntem\\n \\num\\n \\ngrande\\n \\nimpacto\\n \\nno\\n \\nsabor\\n \\nfinal\\n \\ndo\\n \\ncafé,\\n \\npor\\n \\nisso\\n \\nágua\\n \\npura,\\n \\nsem\\n \\ncloro\\n \\nou\\n \\nimpurezas,\\n \\né\\n \\nessencial.', mimetype='text/plain', start_char_idx=0, end_char_idx=2614, metadata_seperator='\\n', text_template='{metadata_str}\\n\\n{content}'),\n",
              " TextNode(id_='fca8b795-4f20-4935-87e1-83f470eca909', embedding=None, metadata={'page_label': '8', 'file_name': 'serenatto_cafes_especiais.pdf', 'file_path': '/content/documentos/serenatto_cafes_especiais.pdf', 'file_type': 'application/pdf', 'file_size': 133957, 'creation_date': '2025-03-12', 'last_modified_date': '2025-03-12'}, excluded_embed_metadata_keys=['file_name', 'file_type', 'file_size', 'creation_date', 'last_modified_date', 'last_accessed_date'], excluded_llm_metadata_keys=['file_name', 'file_type', 'file_size', 'creation_date', 'last_modified_date', 'last_accessed_date'], relationships={<NodeRelationship.SOURCE: '1'>: RelatedNodeInfo(node_id='5b954e8d-d50f-42b0-a702-395779a15067', node_type=<ObjectType.DOCUMENT: '4'>, metadata={'page_label': '8', 'file_name': 'serenatto_cafes_especiais.pdf', 'file_path': '/content/documentos/serenatto_cafes_especiais.pdf', 'file_type': 'application/pdf', 'file_size': 133957, 'creation_date': '2025-03-12', 'last_modified_date': '2025-03-12'}, hash='281a43472b035de033ca5d67c661522c00898eb0ec27cd7722cf6814cf12cd65')}, metadata_template='{key}: {value}', metadata_separator='\\n', text='Café  gelado   P:  Como  posso  preparar  café  gelado?   R:  Para  preparar  um  delicioso  café  gelado,  você  pode  usar  o  método  do  coado,  \\ncontendo\\n \\n40%\\n \\ndo\\n \\nvolume\\n \\nem\\n \\ngelo\\n \\ne\\n \\n60%\\n \\ndo\\n \\nvolume\\n \\nem\\n \\nágua\\n \\nquente,\\n \\nseguindo\\n \\nas\\n \\nseguintes\\n \\netapas:\\n 1.  Pesagem  do  café:  Use  a  proporção  de  1  grama  de  café  para  cada  16  mL  de  água  \\ntotal\\n 2.  Moagem  do  Café:  Moa  o  café  levemente  mais  fino  do  que  o  usado  para  coado  \\nnormal.\\n \\nIsso\\n \\najudará\\n \\nna\\n \\nextração\\n \\ndos\\n \\nsabores,\\n \\ndado\\n \\no\\n \\ntempo\\n \\nde\\n \\ncontato\\n \\nmais\\n \\ncurto\\n \\ncom\\n \\na\\n \\nágua.\\n 3.  Preparação  do  Filtro:  Coloque  o  filtro  de  papel  no  suporte  e  escalde-o  com  água  \\nquente.\\n \\nIsso\\n \\nremove\\n \\nqualquer\\n \\nsabor\\n \\nresidual\\n \\ndo\\n \\npapel\\n \\ne\\n \\najuda\\n \\na\\n \\npré-aquecer\\n \\no\\n \\nsuporte.\\n 4.  Preparação  do  Gelo:  Coloque  gelo  para  ocupar  cerca  de  40%  do  volume  total  da  sua  \\njarra\\n \\nou\\n \\nrecipiente.\\n 5.  Adição  do  café:  Despeje  o  pó  no  filtro.  6.  Pré-infusão:  Adicione  uma  pequena  quantidade  de  água  quente  (entre  94ºC  e  96ºC)  \\nsobre\\n \\no\\n \\ncafé\\n \\nmoído\\n \\nno\\n \\nfiltro,\\n \\nsuficiente\\n \\npara\\n \\numedecer\\n \\ntodo\\n \\no\\n \\ncafé.\\n \\nDeixe\\n \\nem\\n \\npré-infusão\\n \\npor\\n \\n1\\n \\nminuto\\n \\npara\\n \\nliberar\\n \\nos\\n \\nóleos\\n \\nessenciais\\n \\ne\\n \\naromas\\n \\ndo\\n \\ncafé.\\n \\n 7.  Despejo:  Após  a  pré-infusão,  continue  adicionando  a  água  quente  em  ciclos,  \\ndespejando\\n \\nlentamente\\n \\nem\\n \\nmovimentos\\n \\ncirculares\\n \\npara\\n \\ngarantir\\n \\numa\\n \\nextração\\n \\nuniforme.\\n 8.  Finalização:  Após  completar  os  despejos,  deixe  o  café  terminar  de  filtrar  sobre  o  \\ngelo.\\n \\nO\\n \\ngelo\\n \\nderreterá\\n \\nparcialmente,\\n \\nresfriando\\n \\no\\n \\ncafé\\n \\ninstantaneamente\\n \\ne\\n \\ndiluindo-o\\n \\nna\\n \\nproporção\\n \\ncorreta.\\n Este  método  garante  um  café  coado  gelado  refrescante  e  saboroso,  perfeito  para  os  \\ndias\\n \\nmais\\n \\nquentes!', mimetype='text/plain', start_char_idx=0, end_char_idx=1842, metadata_seperator='\\n', text_template='{metadata_str}\\n\\n{content}'),\n",
              " TextNode(id_='e2a8e324-75e3-4e26-8c9d-7205fb64f5a5', embedding=None, metadata={'page_label': '9', 'file_name': 'serenatto_cafes_especiais.pdf', 'file_path': '/content/documentos/serenatto_cafes_especiais.pdf', 'file_type': 'application/pdf', 'file_size': 133957, 'creation_date': '2025-03-12', 'last_modified_date': '2025-03-12'}, excluded_embed_metadata_keys=['file_name', 'file_type', 'file_size', 'creation_date', 'last_modified_date', 'last_accessed_date'], excluded_llm_metadata_keys=['file_name', 'file_type', 'file_size', 'creation_date', 'last_modified_date', 'last_accessed_date'], relationships={<NodeRelationship.SOURCE: '1'>: RelatedNodeInfo(node_id='ecf7af1e-c754-4b9a-9370-d927fcc32c37', node_type=<ObjectType.DOCUMENT: '4'>, metadata={'page_label': '9', 'file_name': 'serenatto_cafes_especiais.pdf', 'file_path': '/content/documentos/serenatto_cafes_especiais.pdf', 'file_type': 'application/pdf', 'file_size': 133957, 'creation_date': '2025-03-12', 'last_modified_date': '2025-03-12'}, hash='e5c7da153d92739e466a244bd1e759d2fa4ad4750b87c2f140fed396d5411676')}, metadata_template='{key}: {value}', metadata_separator='\\n', text='Outros  métodos  de  preparo  além  do  recomendado:   P:  Posso  usar  os  cafés  da  Serenatto  em  máquinas  de  espresso?  R:  Sim,  nossos  cafés  podem  ser  usados  em  máquinas  de  espresso.  Para  esse  método,  \\nrecomendamos\\n \\numa\\n \\nmoagem\\n \\nfina\\n \\ne\\n \\ncafés\\n \\ncom\\n \\ntorra\\n \\nmédia\\n \\nou\\n \\nescura,\\n \\ncomo\\n \\no\\n \\nBourbon\\n \\nvermelho\\n \\nou\\n \\no\\n \\nBlend\\n \\nespecial,\\n \\nque\\n \\npossuem\\n \\ncorpo\\n \\nencorpado\\n \\ne\\n \\nsabores\\n \\nintensos.\\n  P:  Vocês  têm  dicas  para  French  Press?  R:  Para  o  French  Press,  recomendamos  uma  moagem  grossa  e  uma  proporção  de  \\n1:15\\n \\n(1\\n \\ngrama\\n \\nde\\n \\ncafé\\n \\npara\\n \\n15\\n \\nmL\\n \\nde\\n \\nágua).\\n \\nUse\\n \\nágua\\n \\na\\n \\n94ºC\\n \\ne\\n \\ndeixe\\n \\no\\n \\ncafé\\n \\nem\\n \\ninfusão\\n \\npor\\n \\n4\\n \\nminutos.\\n \\nDepois,\\n \\npressione\\n \\no\\n \\nêmbolo\\n \\nlentamente\\n \\ne\\n \\nsirva\\n \\nimediatamente.\\n  P:  Qual  café  é  melhor  para  preparo  cold  brew?  R:  Para  cold  brew,  recomendamos  o  Catuaí  amarelo  ou  o  yirgacheffe,  que  possuem  \\nnotas\\n \\nfrutadas\\n \\ne\\n \\nacidez\\n \\nvibrante,\\n \\ncaracterísticas\\n \\nque\\n \\nse\\n \\ndestacam\\n \\nnesse\\n \\nmétodo\\n \\nde\\n \\npreparo.\\n \\nUse\\n \\numa\\n \\nmoagem\\n \\ngrossa\\n \\ne\\n \\ndeixe\\n \\nem\\n \\ninfusão\\n \\npor\\n \\n12\\n \\na\\n \\n24\\n \\nhoras\\n \\nna\\n \\ngeladeira.\\n  P:  Qual  é  a  moagem  ideal  para  diferentes  tipos  de  preparo?   R:  A  moagem  varia  de  acordo  com  o  método  de  preparo:  ●  Espresso:  Moagem  fina  ●  V60:  Moagem  média-fina  ●  French  Press:  Moagem  grossa  ●  Cold  Brew:  Moagem  grossa   Adaptar  a  moagem  ao  método  de  preparo  ajuda  a  maximizar  o  sabor  e  a  qualidade  da  \\nbebida.\\n  P:  Por  que  moer  o  café  na  hora  é  importante?  R:  Moer  o  café  na  hora  é  essencial  para  garantir  uma  bebida  de  alta  qualidade,  pois  \\npreserva\\n \\no\\n \\nfrescor,\\n \\no\\n \\naroma\\n \\ne\\n \\nos\\n \\nsabores\\n \\nnaturais\\n \\ndos\\n \\ngrãos.\\n \\nQuando\\n \\no\\n \\ncafé\\n \\né\\n \\nmoído,\\n \\nseus\\n \\nóleos\\n \\ne\\n \\ncompostos\\n \\naromáticos\\n \\ncomeçam\\n \\na\\n \\nse\\n \\ndegradar\\n \\nrapidamente\\n \\nem\\n \\ncontato\\n \\ncom\\n \\no\\n \\nar.\\n \\nMoer\\n \\nna\\n \\nhora\\n \\nevita\\n \\nessa\\n \\nperda,\\n \\nresultando\\n \\nem\\n \\num\\n \\ncafé\\n \\nmais\\n \\nrico\\n \\ne\\n \\nsaboroso.\\n \\nAlém\\n \\ndisso,\\n \\npermite\\n \\najustar\\n \\na\\n \\nmoagem\\n \\npara\\n \\no\\n \\nmétodo\\n \\nde\\n \\npreparo\\n \\nescolhido,\\n \\ngarantindo\\n \\numa\\n \\nextração\\n \\nequilibrada\\n \\ne\\n \\nevitando\\n \\nsabores\\n \\naguados\\n \\nou\\n \\namargos.', mimetype='text/plain', start_char_idx=0, end_char_idx=2207, metadata_seperator='\\n', text_template='{metadata_str}\\n\\n{content}'),\n",
              " TextNode(id_='22844b30-fd49-4dc8-a6b3-8d0f69578f1a', embedding=None, metadata={'page_label': '10', 'file_name': 'serenatto_cafes_especiais.pdf', 'file_path': '/content/documentos/serenatto_cafes_especiais.pdf', 'file_type': 'application/pdf', 'file_size': 133957, 'creation_date': '2025-03-12', 'last_modified_date': '2025-03-12'}, excluded_embed_metadata_keys=['file_name', 'file_type', 'file_size', 'creation_date', 'last_modified_date', 'last_accessed_date'], excluded_llm_metadata_keys=['file_name', 'file_type', 'file_size', 'creation_date', 'last_modified_date', 'last_accessed_date'], relationships={<NodeRelationship.SOURCE: '1'>: RelatedNodeInfo(node_id='b079151c-191c-47a3-8c7d-8e7ac52011c8', node_type=<ObjectType.DOCUMENT: '4'>, metadata={'page_label': '10', 'file_name': 'serenatto_cafes_especiais.pdf', 'file_path': '/content/documentos/serenatto_cafes_especiais.pdf', 'file_type': 'application/pdf', 'file_size': 133957, 'creation_date': '2025-03-12', 'last_modified_date': '2025-03-12'}, hash='54ca4fc7b770a7c832c0b03e122cb6d0dfd82241edbe306a0161b80d8ed17a5a')}, metadata_template='{key}: {value}', metadata_separator='\\n', text='Armazenamento  e  validade   P:  Como  devo  armazenar  os  grãos  de  café  para  manter  a  qualidade?  R:  Recomendamos  armazenar  os  grãos  em  um  recipiente  hermético,  longe  da  umidade  \\ne\\n \\ncalor.\\n \\nEvite\\n \\nguardar\\n \\no\\n \\ncafé\\n \\nna\\n \\ngeladeira,\\n \\npois\\n \\na\\n \\numidade\\n \\ne\\n \\nas\\n \\nvariações\\n \\nde\\n \\ntemperatura\\n \\npodem\\n \\nprejudicar\\n \\no\\n \\nsabor\\n \\ne\\n \\no\\n \\naroma.\\n  P:  Qual  é  a  validade  dos  cafés  da  Serenatto?  R:  Nossos  cafés  são  enviados  recém-torrados  para  garantir  frescor.  Para  uma  \\nexperiência\\n \\nmelhor\\n \\ncom\\n \\nas\\n \\ncaracterísticas\\n \\ndas\\n \\nnotas\\n \\nsensoriais\\n \\ne\\n \\na\\n \\nintensidade\\n \\ndo\\n \\naroma,\\n \\no\\n \\nconsumo\\n \\ndeve\\n \\nser\\n \\nentre\\n \\ntrês\\n \\ne\\n \\nquatro\\n \\nmeses.\\n \\nNo\\n \\nentanto,\\n \\ndepois\\n \\nde\\n \\naberto,\\n \\no\\n \\nconsumo\\n \\ndeve\\n \\nser,\\n \\nde\\n \\npreferência,\\n \\nentre\\n \\nduas\\n \\n(quando\\n \\nestiver\\n \\nmoído)\\n \\na\\n \\nquatro\\n \\nsemanas\\n \\n(em\\n \\ngrãos)\\n \\nda\\n \\ndata\\n \\nda\\n \\ntorra.', mimetype='text/plain', start_char_idx=0, end_char_idx=884, metadata_seperator='\\n', text_template='{metadata_str}\\n\\n{content}')]"
            ]
          },
          "metadata": {},
          "execution_count": 13
        }
      ]
    },
    {
      "cell_type": "code",
      "source": [
        "len(nodes)"
      ],
      "metadata": {
        "colab": {
          "base_uri": "https://localhost:8080/"
        },
        "id": "hisF63L53Byp",
        "outputId": "a8b18cde-202f-45ec-ffb2-64a8e52eaeda"
      },
      "execution_count": 14,
      "outputs": [
        {
          "output_type": "execute_result",
          "data": {
            "text/plain": [
              "10"
            ]
          },
          "metadata": {},
          "execution_count": 14
        }
      ]
    },
    {
      "cell_type": "code",
      "source": [
        "nodes[0]"
      ],
      "metadata": {
        "colab": {
          "base_uri": "https://localhost:8080/"
        },
        "id": "FWhR_70d3GU1",
        "outputId": "d314c0da-9a59-42e3-8e8a-bd36f3a17f89"
      },
      "execution_count": 15,
      "outputs": [
        {
          "output_type": "execute_result",
          "data": {
            "text/plain": [
              "TextNode(id_='757a9a46-5ba3-4356-97f9-b192fcce7a37', embedding=None, metadata={'page_label': '1', 'file_name': 'serenatto_cafes_especiais.pdf', 'file_path': '/content/documentos/serenatto_cafes_especiais.pdf', 'file_type': 'application/pdf', 'file_size': 133957, 'creation_date': '2025-03-12', 'last_modified_date': '2025-03-12'}, excluded_embed_metadata_keys=['file_name', 'file_type', 'file_size', 'creation_date', 'last_modified_date', 'last_accessed_date'], excluded_llm_metadata_keys=['file_name', 'file_type', 'file_size', 'creation_date', 'last_modified_date', 'last_accessed_date'], relationships={<NodeRelationship.SOURCE: '1'>: RelatedNodeInfo(node_id='35786cd1-b5ff-43f0-9696-192685e9c533', node_type=<ObjectType.DOCUMENT: '4'>, metadata={'page_label': '1', 'file_name': 'serenatto_cafes_especiais.pdf', 'file_path': '/content/documentos/serenatto_cafes_especiais.pdf', 'file_type': 'application/pdf', 'file_size': 133957, 'creation_date': '2025-03-12', 'last_modified_date': '2025-03-12'}, hash='820b277edf233136c5afd69d8b63f74658d9de4c25893c4e5d205bcb010e8b2e')}, metadata_template='{key}: {value}', metadata_separator='\\n', text='Serenatto  –  Loja  online  de  cafés  especiais   Informações  gerais   P:  Quais  produtos  são  vendidos  no  site  da  Serenatto?  R:  A  Serenatto  é  uma  loja  online  especializada  na  venda  de  grãos  de  cafés  especiais,  \\noferecendo\\n \\ngrãos\\n \\ntorrados,\\n \\nprovenientes\\n \\nde\\n \\nfazendas\\n \\nselecionadas\\n \\nde\\n \\nMinas\\n \\nGerais.\\n \\nTodos\\n \\nos\\n \\nnossos\\n \\ncafés\\n \\npossuem\\n \\nnota\\n \\nSCA\\n \\nacima\\n \\nde\\n \\n80,\\n \\ngarantindo\\n \\nalta\\n \\nqualidade\\n \\ne\\n \\nperfis\\n \\nsensoriais\\n \\nexcepcionais.\\n  P:  De  onde  vêm  os  grãos  de  café  da  Serenatto?   R:  Nossos  grãos  são  cuidadosamente  selecionados  de  fazendas  localizadas  em  Minas  \\nGerais,\\n \\nconhecidas\\n \\npela\\n \\nalta\\n \\nqualidade\\n \\nde\\n \\nseus\\n \\ncafés\\n \\nespeciais.\\n \\nCada\\n \\nfazenda\\n \\né\\n \\nescolhida\\n \\npor\\n \\nsuas\\n \\npráticas\\n \\nsustentáveis\\n \\ne\\n \\npelo\\n \\ncuidado\\n \\nexcepcional\\n \\ncom\\n \\na\\n \\nprodução.\\n  P:  Qual  é  a  quantidade  vendida?  R:  Os  grãos  já  torrados  são  vendidos  em  pacotes  de  250g   P:  Quais  são  as  variedades  de  café  disponíveis?  R:  Trabalhamos  com  as  seguintes  variedades  de  café  em  grãos:  ●  Bourbon  vermelho  ●  Bourbon  amarelo  ●  Blend  especial  (Mistura  de  Bourbon  amarelo  e  vermelho)  ●  Catuaí  amarelo  ●  Geisha  ●  Yirgacheffe   P:  Quais  são  os  preços  de  cada  variedade  de  café?  R:  Os  preços  sãos  os  seguintes:  ●  Bourbon  vermelho:  R$  41,00  ●  Bourbon  amarelo:  R$  43,00  ●  Blend  especial:  R$  37,50  ●  Catuaí  amarelo:  R$  55,00  ●  Geisha:  R$  105,00  ●  Yirgacheffe:  R$  110,00', mimetype='text/plain', start_char_idx=0, end_char_idx=1515, metadata_seperator='\\n', text_template='{metadata_str}\\n\\n{content}')"
            ]
          },
          "metadata": {},
          "execution_count": 15
        }
      ]
    },
    {
      "cell_type": "code",
      "source": [
        "nodes[9]"
      ],
      "metadata": {
        "colab": {
          "base_uri": "https://localhost:8080/"
        },
        "id": "-RdZ5oQy3bxe",
        "outputId": "48bfc28b-4fce-494a-dabc-58a68babc1c2"
      },
      "execution_count": 16,
      "outputs": [
        {
          "output_type": "execute_result",
          "data": {
            "text/plain": [
              "TextNode(id_='22844b30-fd49-4dc8-a6b3-8d0f69578f1a', embedding=None, metadata={'page_label': '10', 'file_name': 'serenatto_cafes_especiais.pdf', 'file_path': '/content/documentos/serenatto_cafes_especiais.pdf', 'file_type': 'application/pdf', 'file_size': 133957, 'creation_date': '2025-03-12', 'last_modified_date': '2025-03-12'}, excluded_embed_metadata_keys=['file_name', 'file_type', 'file_size', 'creation_date', 'last_modified_date', 'last_accessed_date'], excluded_llm_metadata_keys=['file_name', 'file_type', 'file_size', 'creation_date', 'last_modified_date', 'last_accessed_date'], relationships={<NodeRelationship.SOURCE: '1'>: RelatedNodeInfo(node_id='b079151c-191c-47a3-8c7d-8e7ac52011c8', node_type=<ObjectType.DOCUMENT: '4'>, metadata={'page_label': '10', 'file_name': 'serenatto_cafes_especiais.pdf', 'file_path': '/content/documentos/serenatto_cafes_especiais.pdf', 'file_type': 'application/pdf', 'file_size': 133957, 'creation_date': '2025-03-12', 'last_modified_date': '2025-03-12'}, hash='54ca4fc7b770a7c832c0b03e122cb6d0dfd82241edbe306a0161b80d8ed17a5a')}, metadata_template='{key}: {value}', metadata_separator='\\n', text='Armazenamento  e  validade   P:  Como  devo  armazenar  os  grãos  de  café  para  manter  a  qualidade?  R:  Recomendamos  armazenar  os  grãos  em  um  recipiente  hermético,  longe  da  umidade  \\ne\\n \\ncalor.\\n \\nEvite\\n \\nguardar\\n \\no\\n \\ncafé\\n \\nna\\n \\ngeladeira,\\n \\npois\\n \\na\\n \\numidade\\n \\ne\\n \\nas\\n \\nvariações\\n \\nde\\n \\ntemperatura\\n \\npodem\\n \\nprejudicar\\n \\no\\n \\nsabor\\n \\ne\\n \\no\\n \\naroma.\\n  P:  Qual  é  a  validade  dos  cafés  da  Serenatto?  R:  Nossos  cafés  são  enviados  recém-torrados  para  garantir  frescor.  Para  uma  \\nexperiência\\n \\nmelhor\\n \\ncom\\n \\nas\\n \\ncaracterísticas\\n \\ndas\\n \\nnotas\\n \\nsensoriais\\n \\ne\\n \\na\\n \\nintensidade\\n \\ndo\\n \\naroma,\\n \\no\\n \\nconsumo\\n \\ndeve\\n \\nser\\n \\nentre\\n \\ntrês\\n \\ne\\n \\nquatro\\n \\nmeses.\\n \\nNo\\n \\nentanto,\\n \\ndepois\\n \\nde\\n \\naberto,\\n \\no\\n \\nconsumo\\n \\ndeve\\n \\nser,\\n \\nde\\n \\npreferência,\\n \\nentre\\n \\nduas\\n \\n(quando\\n \\nestiver\\n \\nmoído)\\n \\na\\n \\nquatro\\n \\nsemanas\\n \\n(em\\n \\ngrãos)\\n \\nda\\n \\ndata\\n \\nda\\n \\ntorra.', mimetype='text/plain', start_char_idx=0, end_char_idx=884, metadata_seperator='\\n', text_template='{metadata_str}\\n\\n{content}')"
            ]
          },
          "metadata": {},
          "execution_count": 16
        }
      ]
    },
    {
      "cell_type": "code",
      "source": [
        "#instalaçao do hugging face\n",
        "!pip install -q llama-index-embeddings-huggingface"
      ],
      "metadata": {
        "id": "TB5Bq8GU43XV"
      },
      "execution_count": 17,
      "outputs": []
    },
    {
      "cell_type": "code",
      "source": [
        "from llama_index.embeddings.huggingface import HuggingFaceEmbedding"
      ],
      "metadata": {
        "id": "rslQYgAR6EUt"
      },
      "execution_count": 18,
      "outputs": []
    },
    {
      "cell_type": "code",
      "source": [
        "# Classe personalizada para integrar ao Chroma DB\n",
        "\n",
        "class ChromaEmbeddingWrapper:\n",
        "  def __init__(self,model_name:str): # inicializa com o modelo embedding\n",
        "    self.model = HuggingFaceEmbedding(model_name = model_name)\n",
        "\n",
        "\n",
        "  def __call__(self,input): # Converte a entrada para o formato compativel com o HuggingFace\n",
        "    return self.model.embed(input)\n",
        "\n",
        "\n"
      ],
      "metadata": {
        "id": "kY4BSvjt6ZnF"
      },
      "execution_count": 19,
      "outputs": []
    },
    {
      "cell_type": "code",
      "source": [
        "embed_model_chroma= ChromaEmbeddingWrapper(model_name='intfloat/multilingual-e5-large')"
      ],
      "metadata": {
        "colab": {
          "base_uri": "https://localhost:8080/"
        },
        "id": "Wz3Owmy_72tH",
        "outputId": "3d1ad1ea-051f-4e45-f656-404d515d4e55"
      },
      "execution_count": 20,
      "outputs": [
        {
          "output_type": "stream",
          "name": "stderr",
          "text": [
            "/usr/local/lib/python3.11/dist-packages/huggingface_hub/utils/_auth.py:94: UserWarning: \n",
            "The secret `HF_TOKEN` does not exist in your Colab secrets.\n",
            "To authenticate with the Hugging Face Hub, create a token in your settings tab (https://huggingface.co/settings/tokens), set it as secret in your Google Colab and restart your session.\n",
            "You will be able to reuse this secret in all of your notebooks.\n",
            "Please note that authentication is recommended but still optional to access public models or datasets.\n",
            "  warnings.warn(\n"
          ]
        }
      ]
    },
    {
      "cell_type": "code",
      "source": [
        "#instalaçao do chroma db\n",
        "!pip install -q llama-index-vector-stores-chroma"
      ],
      "metadata": {
        "id": "SHXYAcyJ8oTq"
      },
      "execution_count": 21,
      "outputs": []
    },
    {
      "cell_type": "code",
      "source": [
        "#importando chroma db\n",
        "\n",
        "import chromadb\n",
        "db = chromadb.PersistentClient(path='./chroma_db')\n",
        "chroma_client = db\n",
        "collection_name = 'documentos_serenatto'\n",
        "\n",
        "try:\n",
        " chroma_collection = chroma_client.get_or_create_collection(\n",
        "        name=collection_name,\n",
        "        embedding_function=embed_model_chroma)\n",
        "\n",
        "except Exception as e :\n",
        "  print(f'Erro ao criar coleçao {e}')\n",
        ""
      ],
      "metadata": {
        "id": "uhdy1iPO9kpN"
      },
      "execution_count": 22,
      "outputs": []
    },
    {
      "cell_type": "code",
      "source": [
        "from llama_index.vector_stores.chroma import ChromaVectorStore\n",
        "from llama_index.core import StorageContext"
      ],
      "metadata": {
        "id": "3rwOLnF_AIjf"
      },
      "execution_count": 23,
      "outputs": []
    },
    {
      "cell_type": "code",
      "source": [
        "#criando a coleçao do banco de dados\n",
        "vector_store = ChromaVectorStore(chroma_collection=chroma_collection)\n",
        "storage_context = StorageContext.from_defaults(vector_store=vector_store)"
      ],
      "metadata": {
        "id": "9pvOzkFkAlPI"
      },
      "execution_count": 24,
      "outputs": []
    },
    {
      "cell_type": "code",
      "source": [
        "embed_model = HuggingFaceEmbedding(model_name='intfloat/multilingual-e5-large')"
      ],
      "metadata": {
        "id": "GFDBebEuA5DH"
      },
      "execution_count": 25,
      "outputs": []
    },
    {
      "cell_type": "code",
      "source": [
        "from llama_index.core import VectorStoreIndex"
      ],
      "metadata": {
        "id": "CCZojfSSBIbb"
      },
      "execution_count": 26,
      "outputs": []
    },
    {
      "cell_type": "code",
      "source": [
        "index = VectorStoreIndex(nodes, storage_context=storage_context,embed_model = embed_model)"
      ],
      "metadata": {
        "id": "mvfoH4vkBebx"
      },
      "execution_count": 27,
      "outputs": []
    },
    {
      "cell_type": "code",
      "source": [
        "from llama_index.core import load_index_from_storage\n",
        "index = load_index_from_storage(storage_context,embed_model = embed_model)"
      ],
      "metadata": {
        "id": "aPbAsD0zHX1P"
      },
      "execution_count": 28,
      "outputs": []
    },
    {
      "cell_type": "code",
      "source": [
        "from google.colab import userdata\n",
        "Groq_api =userdata.get('api_groq_chat')"
      ],
      "metadata": {
        "id": "dMjptl9JIjFw"
      },
      "execution_count": 29,
      "outputs": []
    },
    {
      "cell_type": "code",
      "source": [
        "!pip install -q llama-index-llms-groq"
      ],
      "metadata": {
        "id": "f0nMZEULJwhB"
      },
      "execution_count": 30,
      "outputs": []
    },
    {
      "cell_type": "code",
      "source": [
        "from llama_index.llms.groq import Groq"
      ],
      "metadata": {
        "id": "ohscxt_fJ9sK"
      },
      "execution_count": 32,
      "outputs": []
    },
    {
      "cell_type": "code",
      "source": [
        "llms = Groq(model = 'llama3-70b-8192',api_key=Groq_api )"
      ],
      "metadata": {
        "id": "pi68wkvZKP4j"
      },
      "execution_count": 33,
      "outputs": []
    },
    {
      "cell_type": "code",
      "source": [
        "query_engine = index.as_query_engine(llm=llms,similarity_top_k=2)"
      ],
      "metadata": {
        "id": "EkjGRo30KoFc"
      },
      "execution_count": 34,
      "outputs": []
    },
    {
      "cell_type": "code",
      "source": [
        "query_engine.query('Quais graos estao disponiveis').response"
      ],
      "metadata": {
        "colab": {
          "base_uri": "https://localhost:8080/",
          "height": 52
        },
        "id": "ipFiKka1LCCb",
        "outputId": "eb7e0cd1-1c56-4292-ee9f-ce9da4336854"
      },
      "execution_count": 35,
      "outputs": [
        {
          "output_type": "execute_result",
          "data": {
            "text/plain": [
              "'Trabalhamos com as seguintes variedades de café em grãos: Bourbon vermelho, Bourbon amarelo, Blend especial (Mistura de Bourbon amarelo e vermelho), Catuaí amarelo, Geisha, Yirgacheffe.'"
            ],
            "application/vnd.google.colaboratory.intrinsic+json": {
              "type": "string"
            }
          },
          "metadata": {},
          "execution_count": 35
        }
      ]
    },
    {
      "cell_type": "code",
      "source": [
        "query_embedding = embed_model.get_text_embedding('Quais graos estao disponiveis ?')"
      ],
      "metadata": {
        "id": "UkpXSd6OLsB1"
      },
      "execution_count": 36,
      "outputs": []
    },
    {
      "cell_type": "code",
      "source": [
        "chroma_collection.query(query_embedding,n_results=2,include=['distances','embeddings'])"
      ],
      "metadata": {
        "colab": {
          "base_uri": "https://localhost:8080/"
        },
        "id": "O7SKFcL1MBh-",
        "outputId": "bc373b83-aac7-4d80-fb79-63268b4d4936"
      },
      "execution_count": 37,
      "outputs": [
        {
          "output_type": "execute_result",
          "data": {
            "text/plain": [
              "{'ids': [['3591a1e4-813c-45a4-b0eb-13ca928fb822',\n",
              "   '757a9a46-5ba3-4356-97f9-b192fcce7a37']],\n",
              " 'embeddings': [array([[ 0.01460024, -0.01119941, -0.00576889, ...,  0.00555894,\n",
              "          -0.0503395 ,  0.00342874],\n",
              "         [ 0.01460024, -0.01119941, -0.00576889, ...,  0.00555894,\n",
              "          -0.0503395 ,  0.00342874]])],\n",
              " 'documents': None,\n",
              " 'uris': None,\n",
              " 'data': None,\n",
              " 'metadatas': None,\n",
              " 'distances': [[0.3871879346745659, 0.3871879346745659]],\n",
              " 'included': [<IncludeEnum.embeddings: 'embeddings'>,\n",
              "  <IncludeEnum.distances: 'distances'>]}"
            ]
          },
          "metadata": {},
          "execution_count": 37
        }
      ]
    },
    {
      "cell_type": "code",
      "source": [
        "chat_engine = index.as_chat_engine(mode='context',llm = llms)"
      ],
      "metadata": {
        "id": "2r4fbqyxM4mB"
      },
      "execution_count": 38,
      "outputs": []
    },
    {
      "cell_type": "code",
      "source": [
        "pergunta = chat_engine.chat('Quais graos estao disponiveis ?').response\n",
        "print(pergunta)"
      ],
      "metadata": {
        "colab": {
          "base_uri": "https://localhost:8080/"
        },
        "id": "9nym3nPrUNtd",
        "outputId": "73f1dadd-97ad-445e-8290-af2d472d8be3"
      },
      "execution_count": 39,
      "outputs": [
        {
          "output_type": "stream",
          "name": "stdout",
          "text": [
            "Os grãos disponíveis são Bourbon vermelho, Bourbon amarelo, Blend especial (uma mistura de Bourbon amarelo e vermelho), Catuaí amarelo, Geisha e Yirgacheffe.\n"
          ]
        }
      ]
    },
    {
      "cell_type": "code",
      "source": [],
      "metadata": {
        "colab": {
          "base_uri": "https://localhost:8080/",
          "height": 35
        },
        "id": "3EDTl8n3UYYI",
        "outputId": "33f2f28c-11b0-494c-8950-9a3c3ccb5037"
      },
      "execution_count": 83,
      "outputs": [
        {
          "output_type": "execute_result",
          "data": {
            "text/plain": [
              "'Os grãos disponíveis são: Bourbon vermelho, Bourbon amarelo, Blend especial (Mistura de Bourbon amarelo e vermelho), Catuaí amarelo, Geisha e Yirgacheffe.'"
            ],
            "application/vnd.google.colaboratory.intrinsic+json": {
              "type": "string"
            }
          },
          "metadata": {},
          "execution_count": 83
        }
      ]
    },
    {
      "cell_type": "code",
      "source": [
        "pergunta = chat_engine.chat('Quais sao os preços dos graos ?').response\n",
        "print(pergunta)"
      ],
      "metadata": {
        "colab": {
          "base_uri": "https://localhost:8080/"
        },
        "outputId": "29c84b73-1bfd-4348-f367-53d839c6ee39",
        "id": "K0447UiGUnvY"
      },
      "execution_count": 40,
      "outputs": [
        {
          "output_type": "stream",
          "name": "stdout",
          "text": [
            "Os preços dos grãos são: Bourbon vermelho: R$ 41,00, Bourbon amarelo: R$ 43,00, Blend especial: R$ 37,50, Catuaí amarelo: R$ 55,00, Geisha: R$ 105,00, e Yirgacheffe: R$ 110,00.\n"
          ]
        }
      ]
    },
    {
      "cell_type": "code",
      "source": [],
      "metadata": {
        "id": "Sn4rcc3kUxQp"
      },
      "execution_count": null,
      "outputs": []
    },
    {
      "cell_type": "code",
      "source": [
        "pergunta = chat_engine.chat('Voce pode me dar mais detalhes sobre o Catuai amarelo ?').response\n",
        "print(pergunta)"
      ],
      "metadata": {
        "colab": {
          "base_uri": "https://localhost:8080/"
        },
        "outputId": "9fb32265-5507-4be3-9503-2cca860ef553",
        "id": "RUPd-IzRUyOv"
      },
      "execution_count": 41,
      "outputs": [
        {
          "output_type": "stream",
          "name": "stdout",
          "text": [
            "O Catuai amarelo tem doçura máxima (5/5) e corpo médio-alto (4/5) com amargor baixo (1/5). Além disso, apresenta uma acidez expressiva e notas incríveis de pitanga, desviando do tradicional.\n"
          ]
        }
      ]
    },
    {
      "cell_type": "code",
      "source": [],
      "metadata": {
        "id": "T9CvV2CKVCj_"
      },
      "execution_count": null,
      "outputs": []
    },
    {
      "cell_type": "code",
      "source": [
        "pergunta = chat_engine.chat('Qual o preço dele ?').response\n",
        "print(pergunta)"
      ],
      "metadata": {
        "colab": {
          "base_uri": "https://localhost:8080/"
        },
        "outputId": "366b6b11-a617-4524-ce8d-8c4e858a7550",
        "id": "gjRYFWr7VDe0"
      },
      "execution_count": 42,
      "outputs": [
        {
          "output_type": "stream",
          "name": "stdout",
          "text": [
            "O preço do Catuai amarelo é R$ 55,00.\n"
          ]
        }
      ]
    },
    {
      "cell_type": "code",
      "source": [
        "chat_engine.chat_history"
      ],
      "metadata": {
        "colab": {
          "base_uri": "https://localhost:8080/"
        },
        "id": "bkIHEfRbVWaJ",
        "outputId": "f2e3333e-12ee-4d1a-802c-86f2ddf0a5b3"
      },
      "execution_count": 43,
      "outputs": [
        {
          "output_type": "execute_result",
          "data": {
            "text/plain": [
              "[ChatMessage(role=<MessageRole.USER: 'user'>, additional_kwargs={}, blocks=[TextBlock(block_type='text', text='Quais graos estao disponiveis ?')]),\n",
              " ChatMessage(role=<MessageRole.ASSISTANT: 'assistant'>, additional_kwargs={}, blocks=[TextBlock(block_type='text', text='Os grãos disponíveis são Bourbon vermelho, Bourbon amarelo, Blend especial (uma mistura de Bourbon amarelo e vermelho), Catuaí amarelo, Geisha e Yirgacheffe.')]),\n",
              " ChatMessage(role=<MessageRole.USER: 'user'>, additional_kwargs={}, blocks=[TextBlock(block_type='text', text='Quais sao os preços dos graos ?')]),\n",
              " ChatMessage(role=<MessageRole.ASSISTANT: 'assistant'>, additional_kwargs={}, blocks=[TextBlock(block_type='text', text='Os preços dos grãos são: Bourbon vermelho: R$ 41,00, Bourbon amarelo: R$ 43,00, Blend especial: R$ 37,50, Catuaí amarelo: R$ 55,00, Geisha: R$ 105,00, e Yirgacheffe: R$ 110,00.')]),\n",
              " ChatMessage(role=<MessageRole.USER: 'user'>, additional_kwargs={}, blocks=[TextBlock(block_type='text', text='Voce pode me dar mais detalhes sobre o Catuai amarelo ?')]),\n",
              " ChatMessage(role=<MessageRole.ASSISTANT: 'assistant'>, additional_kwargs={}, blocks=[TextBlock(block_type='text', text='O Catuai amarelo tem doçura máxima (5/5) e corpo médio-alto (4/5) com amargor baixo (1/5). Além disso, apresenta uma acidez expressiva e notas incríveis de pitanga, desviando do tradicional.')]),\n",
              " ChatMessage(role=<MessageRole.USER: 'user'>, additional_kwargs={}, blocks=[TextBlock(block_type='text', text='Qual o preço dele ?')]),\n",
              " ChatMessage(role=<MessageRole.ASSISTANT: 'assistant'>, additional_kwargs={}, blocks=[TextBlock(block_type='text', text='O preço do Catuai amarelo é R$ 55,00.')])]"
            ]
          },
          "metadata": {},
          "execution_count": 43
        }
      ]
    },
    {
      "cell_type": "code",
      "source": [
        "from llama_index.core.memory import ChatSummaryMemoryBuffer"
      ],
      "metadata": {
        "id": "eOgSibaHWcte"
      },
      "execution_count": 44,
      "outputs": []
    },
    {
      "cell_type": "code",
      "source": [
        "memory = ChatSummaryMemoryBuffer(llm=llms,token_limit=256)"
      ],
      "metadata": {
        "id": "eKqnWNVsW2u5"
      },
      "execution_count": 45,
      "outputs": []
    },
    {
      "cell_type": "code",
      "source": [
        "chat_engine= index.as_chat_engine(\n",
        "    chat_mode = 'context',\n",
        "    llm=llms,\n",
        "    memory=memory,\n",
        "    system_prompt=('''Voce é especialista em cafes da loja Serenato, uma loja online que vende graos de cafe\n",
        "   torrados, sua funçao é tirar duvidas de forma simpatica e natural sobre os graos disponiveis''')\n",
        ")"
      ],
      "metadata": {
        "id": "i5TeuW_HXIbB"
      },
      "execution_count": 46,
      "outputs": []
    },
    {
      "cell_type": "code",
      "source": [
        "response = chat_engine.chat('Ola')\n",
        "print(response)"
      ],
      "metadata": {
        "colab": {
          "base_uri": "https://localhost:8080/"
        },
        "id": "p6lxM-puYOAB",
        "outputId": "23466e7a-e02e-484d-b903-23a5d71ee2e7"
      },
      "execution_count": 47,
      "outputs": [
        {
          "output_type": "stream",
          "name": "stdout",
          "text": [
            "Olá! Bem-vindo à loja online Serenatto! Eu sou o especialista em cafés aqui. Estou aqui para ajudar a tirar suas dúvidas sobre nossos deliciosos grãos de café torrados. Qual é sua pergunta sobre nossos cafés?\n"
          ]
        }
      ]
    },
    {
      "cell_type": "code",
      "source": [
        "response = chat_engine.chat('Voce pode me dar mais detalhes sobre o catui amarelo')\n",
        "print(response)"
      ],
      "metadata": {
        "colab": {
          "base_uri": "https://localhost:8080/"
        },
        "id": "1OxusbWBYqli",
        "outputId": "9544ad8c-ea69-4647-fdea-b76af6d5e462"
      },
      "execution_count": 48,
      "outputs": [
        {
          "output_type": "stream",
          "name": "stdout",
          "text": [
            "O Catuaí amarelo! É um dos nossos cafés mais exóticos e especiais. Ele possui uma doçura máxima (5/5) e um corpo médio-alto (4/5), com um amargor baixo (1/5). O que o torna realmente único é sua expressiva acidez e as notas maravilhosas de pitanga. É um café que foge do tradicional e é perfeito para quem busca uma experiência sensorial diferenciada.\n",
            "\n",
            "O processo de produção do Catuaí amarelo é fermentado, cultivado em altitude de 1.200m, com torra média. Isso lhe confere um perfil sensorial muito interessante e agradável.\n",
            "\n",
            "Se você é um amante de cafés que oferecem algo novo e emocionante, o Catuaí amarelo é uma ótima escolha. Você vai adorar sua complexidade e sua capacidade de surpreender!\n"
          ]
        }
      ]
    },
    {
      "cell_type": "code",
      "source": [
        "response = chat_engine.chat('qual o preço dele')\n",
        "print(response)"
      ],
      "metadata": {
        "colab": {
          "base_uri": "https://localhost:8080/"
        },
        "id": "NjA8zP1SY42A",
        "outputId": "efc187a2-c0dd-4b84-beae-29833b909734"
      },
      "execution_count": 49,
      "outputs": [
        {
          "output_type": "stream",
          "name": "stdout",
          "text": [
            "O preço do Catuaí amarelo é de R$ 55,00 por pacote de 250g. É um investimento vale a pena para quem busca uma experiência de café única e de alta qualidade. Além disso, como todos os nossos cafés, o Catuaí amarelo tem uma nota SCA acima de 80, garantindo que você esteja recebendo um produto de alta qualidade.\n"
          ]
        }
      ]
    },
    {
      "cell_type": "code",
      "source": [
        "memory.get()"
      ],
      "metadata": {
        "colab": {
          "base_uri": "https://localhost:8080/"
        },
        "id": "mmk43LevZDRK",
        "outputId": "6bf4f236-8538-4c74-8bb3-6bce090e77f9"
      },
      "execution_count": 50,
      "outputs": [
        {
          "output_type": "execute_result",
          "data": {
            "text/plain": [
              "[ChatMessage(role=<MessageRole.SYSTEM: 'system'>, additional_kwargs={}, blocks=[TextBlock(block_type='text', text='It looks like we have a conversation started in Portuguese!\\n\\nTo summarize, the user greeted with \"Ola\" and the assistant responded with a warm welcome to the online store Serenatto, introducing themselves as a coffee expert. The assistant is ready to help answer any questions the user may have about their delicious roasted coffee beans.\\n\\nThe conversation so far:\\n\\nUser: Ola\\nAssistant: Olá! Bem-vindo à loja online Serenatto! Eu sou o especialista em cafés aqui. Estou aqui para ajudar a tirar suas dúvidas sobre nossos deliciosos grãos de café torrados. Qual é sua pergunta sobre nossos cafés?\\n\\nThe user then asked for more details about the \"Catui amarelo\" coffee. The assistant responded by describing the coffee\\'s characteristics, such as its high sweetness, medium-high body, and low bitterness. The assistant highlighted the coffee\\'s unique acidity and notes of pitanga, making it a perfect choice for those seeking a differentiated sensory experience.\\n\\nThe assistant also explained the production process of the Catuaí amarelo, which involves fermentation, cultivation at an altitude of 1,200m, and medium roasting. This process gives the coffee an interesting and pleasant sensory profile.\\n\\nThe assistant concluded by recommending the Catuaí amarelo to those who enjoy trying new and exciting coffee experiences, praising its complexity and ability to surprise.')]),\n",
              " ChatMessage(role=<MessageRole.USER: 'user'>, additional_kwargs={}, blocks=[TextBlock(block_type='text', text='qual o preço dele')]),\n",
              " ChatMessage(role=<MessageRole.ASSISTANT: 'assistant'>, additional_kwargs={}, blocks=[TextBlock(block_type='text', text='O preço do Catuaí amarelo é de R$ 55,00 por pacote de 250g. É um investimento vale a pena para quem busca uma experiência de café única e de alta qualidade. Além disso, como todos os nossos cafés, o Catuaí amarelo tem uma nota SCA acima de 80, garantindo que você esteja recebendo um produto de alta qualidade.')])]"
            ]
          },
          "metadata": {},
          "execution_count": 50
        }
      ]
    },
    {
      "cell_type": "code",
      "source": [
        "#resetando o chat\n",
        "chat_engine.reset()"
      ],
      "metadata": {
        "id": "6z6s3ZjRZWsu"
      },
      "execution_count": 51,
      "outputs": []
    },
    {
      "cell_type": "code",
      "source": [
        "response = chat_engine.chat('qual o preço dele')\n",
        "print(response)"
      ],
      "metadata": {
        "colab": {
          "base_uri": "https://localhost:8080/"
        },
        "outputId": "c78703ea-5977-473b-eab0-8927d45480ef",
        "id": "WFvgtbXJZmaE"
      },
      "execution_count": 52,
      "outputs": [
        {
          "output_type": "stream",
          "name": "stdout",
          "text": [
            "Olá!\n",
            "\n",
            "Você está perguntando sobre o preço de um dos nossos cafés especiais, certo?\n",
            "\n",
            "Nós temos várias opções disponíveis, e os preços variam de acordo com a variedade. Aqui vão os preços de cada uma delas:\n",
            "\n",
            "* Bourbon Vermelho: R$ 41,00\n",
            "* Bourbon Amarelo: R$ 43,00\n",
            "* Blend Especial (mistura de Bourbon Amarelo e Vermelho): R$ 37,50\n",
            "* Catuaí Amarelo: R$ 55,00\n",
            "* Geisha: R$ 105,00\n",
            "* Yirgacheffe: R$ 110,00\n",
            "\n",
            "Qual variedade você está interessado em saber mais sobre?\n"
          ]
        }
      ]
    },
    {
      "cell_type": "code",
      "source": [
        "# implementando a interface com o Gradio\n",
        "!pip install gradio"
      ],
      "metadata": {
        "id": "-wGipxalZqKj"
      },
      "execution_count": null,
      "outputs": []
    },
    {
      "cell_type": "code",
      "source": [
        "import gradio as gr"
      ],
      "metadata": {
        "id": "sHE6H_4SbURe"
      },
      "execution_count": 53,
      "outputs": []
    },
    {
      "cell_type": "code",
      "source": [
        "# Criando a função para conversar com o chatbot\n",
        "def converse_com_bot(message, chat_history):\n",
        "    response = chat_engine.chat(message)\n",
        "\n",
        "    if chat_history is None:\n",
        "        chat_history = []\n",
        "\n",
        "    chat_history.append({\"role\": \"user\", \"content\": message})\n",
        "    chat_history.append({\"role\": \"assistant\", \"content\": response.response})\n",
        "\n",
        "    return \"\", chat_history\n",
        "\n",
        "# Criando a função para resetar o chatbot\n",
        "def resetar_chat():\n",
        "    chat_engine.reset()\n",
        "    return []\n",
        "\n",
        "\n",
        ""
      ],
      "metadata": {
        "id": "UX1ugF4YbXO1"
      },
      "execution_count": 55,
      "outputs": []
    },
    {
      "cell_type": "code",
      "source": [
        "with gr.Blocks() as app:\n",
        "\n",
        "    gr.Markdown('# Chatbot da Serenatto')\n",
        "    chatbot = gr.Chatbot(type='messages')\n",
        "    msg = gr.Textbox(label='Digite a sua mensagem')\n",
        "    limpar = gr.Button('Limpar')\n",
        "\n",
        "    msg.submit(converse_com_bot,[msg,chatbot],[msg,chatbot])\n",
        "    limpar.click(resetar_chat,None,chatbot,queue=False)\n",
        "\n",
        "    app.launch(debug=True)"
      ],
      "metadata": {
        "colab": {
          "base_uri": "https://localhost:8080/",
          "height": 645
        },
        "id": "0c-y5glzbeXd",
        "outputId": "4bf614c0-2f94-41bd-bd3a-ee56b9f2f895"
      },
      "execution_count": null,
      "outputs": [
        {
          "output_type": "stream",
          "name": "stdout",
          "text": [
            "Running Gradio in a Colab notebook requires sharing enabled. Automatically setting `share=True` (you can turn this off by setting `share=False` in `launch()` explicitly).\n",
            "\n",
            "Colab notebook detected. This cell will run indefinitely so that you can see errors and logs. To turn off, set debug=False in launch().\n",
            "* Running on public URL: https://a001597c67037ec64f.gradio.live\n",
            "\n",
            "This share link expires in 72 hours. For free permanent hosting and GPU upgrades, run `gradio deploy` from the terminal in the working directory to deploy to Hugging Face Spaces (https://huggingface.co/spaces)\n"
          ]
        },
        {
          "output_type": "display_data",
          "data": {
            "text/plain": [
              "<IPython.core.display.HTML object>"
            ],
            "text/html": [
              "<div><iframe src=\"https://a001597c67037ec64f.gradio.live\" width=\"100%\" height=\"500\" allow=\"autoplay; camera; microphone; clipboard-read; clipboard-write;\" frameborder=\"0\" allowfullscreen></iframe></div>"
            ]
          },
          "metadata": {}
        }
      ]
    }
  ]
}